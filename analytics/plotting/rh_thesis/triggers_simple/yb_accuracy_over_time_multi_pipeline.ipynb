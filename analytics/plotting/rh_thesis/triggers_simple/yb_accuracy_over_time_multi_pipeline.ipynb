{
 "cells": [
  {
   "cell_type": "code",
   "execution_count": null,
   "metadata": {},
   "outputs": [],
   "source": [
    "from pathlib import Path\n",
    "\n",
    "import matplotlib.dates as mdates\n",
    "import pandas as pd\n",
    "from matplotlib.ticker import FixedFormatter, FixedLocator\n",
    "\n",
    "from analytics.app.data.load import list_pipelines\n",
    "from analytics.app.data.transform import dfs_models_and_evals, logs_dataframe, patch_yearbook_time\n",
    "from analytics.plotting.common.metric_over_time import plot_metric_over_time\n",
    "from analytics.plotting.common.save import save_plot\n",
    "\n",
    "%load_ext autoreload\n",
    "%autoreload 2"
   ]
  },
  {
   "cell_type": "code",
   "execution_count": null,
   "metadata": {},
   "outputs": [],
   "source": [
    "pipelines_dir = Path(\n",
    "    \"/Users/robinholzinger/robin/dev/eth/modyn-robinholzi-data/data/triggering/yearbook/10_baselines_time\"\n",
    ")\n",
    "assert pipelines_dir.exists()"
   ]
  },
  {
   "cell_type": "code",
   "execution_count": null,
   "metadata": {},
   "outputs": [],
   "source": [
    "pipelines = list_pipelines(pipelines_dir)\n",
    "max_pipeline_id = max(pipelines.keys())\n",
    "pipelines"
   ]
  },
  {
   "cell_type": "code",
   "execution_count": null,
   "metadata": {},
   "outputs": [],
   "source": [
    "from analytics.app.data.load import load_pipeline_logs\n",
    "\n",
    "pipeline_logs = {p_id: load_pipeline_logs(p_id, pipelines_dir) for (p_id, (_, p_path)) in pipelines.items()}"
   ]
  },
  {
   "cell_type": "code",
   "execution_count": null,
   "metadata": {},
   "outputs": [],
   "source": [
    "# mode:\n",
    "pipeline_ids = [20, 24, 26, 33]\n",
    "\n",
    "# doesn't do anything unless include_composite_model = True\n",
    "composite_model_variant = \"currently_active_model\"\n",
    "\n",
    "patch_yearbook = True\n",
    "dataset_id = \"yearbook_test\"\n",
    "eval_handler = \"periodic-delta+-1y\"\n",
    "metric = \"Accuracy\"\n",
    "include_composite_model = True"
   ]
  },
  {
   "cell_type": "markdown",
   "metadata": {},
   "source": [
    "# Wrangle data"
   ]
  },
  {
   "cell_type": "code",
   "execution_count": null,
   "metadata": {},
   "outputs": [],
   "source": [
    "all_eval_dfs = []\n",
    "for pipeline_id in pipeline_ids:\n",
    "    pipeline_log = pipeline_logs[pipeline_id]\n",
    "    pipeline_ref = f\"{pipeline_id}\".zfill(len(str(max_pipeline_id))) + f\" - {pipelines[pipeline_id][0]}\"\n",
    "\n",
    "    df_all = logs_dataframe(pipeline_log, pipeline_ref)\n",
    "\n",
    "    df_logs_models, _, df_eval_single = dfs_models_and_evals(\n",
    "        # subtracting would interfere with yearbook patching\n",
    "        pipeline_log,\n",
    "        df_all[\"sample_time\"].max(),\n",
    "        pipeline_ref,\n",
    "    )\n",
    "    all_eval_dfs.append(df_eval_single)\n",
    "\n",
    "df_adjusted = pd.concat(all_eval_dfs)\n",
    "\n",
    "df_adjusted = df_adjusted[\n",
    "    (df_adjusted[\"dataset_id\"] == dataset_id)\n",
    "    & (df_adjusted[\"eval_handler\"] == eval_handler)\n",
    "    & (df_adjusted[\"metric\"] == metric)\n",
    "]\n",
    "\n",
    "# in percent (0-100)\n",
    "df_adjusted[\"value\"] = df_adjusted[\"value\"] * 100\n",
    "df_adjusted"
   ]
  },
  {
   "cell_type": "code",
   "execution_count": null,
   "metadata": {},
   "outputs": [],
   "source": [
    "# Name transformer\n",
    "import re\n",
    "\n",
    "\n",
    "def name_transformer(name):\n",
    "    # reduce to number yearbook_timetrigger_10y\n",
    "    return re.sub(r\".*yearbook_timetriggers?_(\\d+)y\", r\"trigger every \\1 years\", name).replace(\"1 years\", \"1 year\")\n",
    "\n",
    "\n",
    "df_adjusted[\"pipeline_ref\"] = df_adjusted[\"pipeline_ref\"].apply(name_transformer)\n",
    "df_adjusted"
   ]
  },
  {
   "cell_type": "code",
   "execution_count": null,
   "metadata": {},
   "outputs": [],
   "source": [
    "df_adjusted[\"pipeline_ref\"].unique()"
   ]
  },
  {
   "cell_type": "code",
   "execution_count": null,
   "metadata": {},
   "outputs": [],
   "source": [
    "# df_adjusted[\"dataset_id\"].unique()\n",
    "df_adjusted[df_adjusted[\"dataset_id\"] == \"yearbook-test\"][\"pipeline_ref\"].unique()"
   ]
  },
  {
   "cell_type": "code",
   "execution_count": null,
   "metadata": {},
   "outputs": [],
   "source": [
    "if patch_yearbook:\n",
    "    for column in [\"interval_start\", \"interval_center\", \"interval_end\"]:\n",
    "        patch_yearbook_time(df_adjusted, column)"
   ]
  },
  {
   "cell_type": "code",
   "execution_count": null,
   "metadata": {},
   "outputs": [],
   "source": [
    "df_adjusted = df_adjusted.sort_values(by=[\"interval_center\"])"
   ]
  },
  {
   "cell_type": "code",
   "execution_count": null,
   "metadata": {},
   "outputs": [],
   "source": [
    "# Add composite model\n",
    "\n",
    "pipeline_composite_model = df_adjusted[df_adjusted[composite_model_variant]]\n",
    "pipeline_composite_model[\"model_idx\"] = -1  # \"00-pipeline-composite-model\"\n",
    "# number_digits = len(str(df_adjusted[\"model_idx\"].max()))\n",
    "# df_adjusted[\"model_idx\"] = df_adjusted[\"model_idx\"].astype(str).str.zfill(number_digits)\n",
    "df_adjusted = pd.concat([df_adjusted, pipeline_composite_model])\n",
    "\n",
    "# df_composite = df_adjusted[df_adjusted[composite_model_variant]]\n",
    "# df_composite"
   ]
  },
  {
   "cell_type": "code",
   "execution_count": null,
   "metadata": {},
   "outputs": [],
   "source": [
    "# only composite models\n",
    "reduced = df_adjusted[df_adjusted[\"model_idx\"] == -1].copy()\n",
    "reduced"
   ]
  },
  {
   "cell_type": "markdown",
   "metadata": {},
   "source": [
    "# Create Plot"
   ]
  },
  {
   "cell_type": "code",
   "execution_count": null,
   "metadata": {},
   "outputs": [],
   "source": [
    "fig = plot_metric_over_time(\n",
    "    reduced,\n",
    "    x=\"interval_center\",\n",
    "    y=\"value\",\n",
    "    hue=\"pipeline_ref\",\n",
    "    style=\"pipeline_ref\",\n",
    "    width_factor=0.85,\n",
    "    height_factor=0.75,\n",
    "    legend_label=\"TimeTrigger Pipeline\",\n",
    "    small_legend_fonts=True,\n",
    "    # x_date_locator=mdates.YearLocator(20),\n",
    "    # x_date_formatter=mdates.DateFormatter(\"%Y\"),  # %b\\n\n",
    "    x_date_locator=FixedLocator([mdates.date2num(pd.Timestamp(f\"{y}-01-01\")) for y in [1940, 1970, 2000]]),\n",
    "    x_date_formatter=FixedFormatter([str(year) for year in [1940, 1970, 2000]]),\n",
    "    y_ticks=[50, 70, 90],\n",
    "    x_label=\"Evaluation Year\",\n",
    "    y_label=\"Accuracy (%)\",\n",
    "    ylim=(45, 103),\n",
    "    markers=False,\n",
    ")\n",
    "\n",
    "save_plot(fig, \"simple_yb_composite_models_over_time\")"
   ]
  },
  {
   "cell_type": "code",
   "execution_count": null,
   "metadata": {},
   "outputs": [],
   "source": []
  }
 ],
 "metadata": {
  "kernelspec": {
   "display_name": "Python 3",
   "language": "python",
   "name": "python3"
  },
  "language_info": {
   "codemirror_mode": {
    "name": "ipython",
    "version": 3
   },
   "file_extension": ".py",
   "mimetype": "text/x-python",
   "name": "python",
   "nbconvert_exporter": "python",
   "pygments_lexer": "ipython3",
   "version": "3.12.3"
  }
 },
 "nbformat": 4,
 "nbformat_minor": 2
}
