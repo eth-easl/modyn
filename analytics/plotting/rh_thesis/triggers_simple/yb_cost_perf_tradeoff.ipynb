{
 "cells": [
  {
   "cell_type": "code",
   "execution_count": null,
   "metadata": {},
   "outputs": [],
   "source": [
    "from pathlib import Path\n",
    "\n",
    "import pandas as pd\n",
    "\n",
    "from analytics.app.data.load import list_pipelines, load_pipeline_logs\n",
    "from analytics.app.data.transform import (\n",
    "    df_aggregate_eval_metric,\n",
    "    dfs_models_and_evals,\n",
    "    patch_yearbook_time,\n",
    "    pipeline_leaf_times_df,\n",
    ")\n",
    "from analytics.plotting.common.save import save_plot\n",
    "from analytics.plotting.common.tradeoff_scatterplot import plot_tradeoff_scatter\n",
    "from modyn.supervisor.internal.grpc.enums import PipelineStage\n",
    "from modyn.supervisor.internal.pipeline_executor.models import PipelineLogs\n",
    "\n",
    "%load_ext autoreload\n",
    "%autoreload 2"
   ]
  },
  {
   "cell_type": "code",
   "execution_count": null,
   "metadata": {},
   "outputs": [],
   "source": [
    "pipelines_dirs = [\n",
    "    Path(\"/Users/robinholzinger/robin/dev/eth/modyn-robinholzi-data/data/triggering/yearbook/10_baselines_time\"),\n",
    "    Path(\"/Users/robinholzinger/robin/dev/eth/modyn-robinholzi-data/data/triggering/yearbook/11_baselines_amount\"),\n",
    "]\n",
    "\n",
    "pipeline_logs: dict[int, PipelineLogs] = {}\n",
    "pipelines: dict[int, tuple[str, Path]] = {}\n",
    "\n",
    "for dir in pipelines_dirs:\n",
    "    dir_pipelines = list_pipelines(dir)\n",
    "    pipelines.update(dir_pipelines)\n",
    "    max_pipeline_id = max(dir_pipelines.keys())\n",
    "    print(pipelines)\n",
    "    pipeline_logs.update({p_id: load_pipeline_logs(p_id, dir) for (p_id, (_, p_path)) in dir_pipelines.items()})\n",
    "    assert dir.exists()"
   ]
  },
  {
   "cell_type": "code",
   "execution_count": null,
   "metadata": {},
   "outputs": [],
   "source": [
    "# doesn't do anything unless include_composite_model = True\n",
    "composite_model_variant = \"currently_active_model\"\n",
    "\n",
    "patch_yearbook = True\n",
    "dataset_id = \"yearbook_test\"\n",
    "eval_handler = \"periodic-delta+-1y\"\n",
    "metric = \"Accuracy\"\n",
    "include_composite_model = True"
   ]
  },
  {
   "cell_type": "code",
   "execution_count": null,
   "metadata": {},
   "outputs": [],
   "source": [
    "def pipeline_name_mapper(name: str) -> str:\n",
    "    name = name.replace(\"yearbook_\", \"\")\n",
    "    name = name.replace(\"timetrigger_\", \"\")  # \"every \"\n",
    "    name = name.replace(\"amounttrigger_\", \"\")  # \"every \"\n",
    "    name = name.replace(\"mmdalibi_\", \"\")\n",
    "    if name.endswith(\"y\"):\n",
    "        name = name[:-1] + (\" years\" if not name.endswith(\"1y\") else \" year\")\n",
    "    elif not name.endswith(\"d\"):  # dataamount\n",
    "        name = name + \" samples\"\n",
    "    else:  # drift\n",
    "        name = name.replace(\"_\", \"/\")\n",
    "    return name\n",
    "\n",
    "\n",
    "pipelines = {\n",
    "    p_id: (pipeline_name_mapper(pname), p_path)\n",
    "    for p_id, (pname, p_path) in pipelines.items()\n",
    "    if pipeline_name_mapper(pname)\n",
    "    in [\n",
    "        # '40 years',\n",
    "        # '25 years',\n",
    "        \"15 years\",\n",
    "        # '10 years',\n",
    "        \"5 years\",\n",
    "        \"4 years\",\n",
    "        \"3 years\",\n",
    "        \"2 years\",\n",
    "        \"1 year\",\n",
    "        \"dataamount_250 samples\",\n",
    "        \"dataamount_500 samples\",\n",
    "        \"dataamount_1000 samples\",\n",
    "        \"dataamount_2500 samples\",\n",
    "        \"dataamount_5000 samples\",\n",
    "        # 'dataamount_10000 samples',\n",
    "        # 'dataamount_15000 samples',\n",
    "        # 'dataamount_30000 samples'\n",
    "    ]\n",
    "    and p_id < 100  # don't include duplicates\n",
    "}\n",
    "pipeline_ids = list(pipelines.keys())\n",
    "\n",
    "[(p_id, pname) for p_id, (pname, _) in pipelines.items() if p_id in pipeline_ids]"
   ]
  },
  {
   "cell_type": "markdown",
   "metadata": {},
   "source": [
    "# Wrangle data"
   ]
  },
  {
   "cell_type": "code",
   "execution_count": null,
   "metadata": {},
   "outputs": [],
   "source": [
    "list_df_eval_single: list[pd.DataFrame] = []\n",
    "df_leaf_list: list[pd.DataFrame] = []\n",
    "\n",
    "for pipeline_id in pipeline_ids:\n",
    "    logs = pipeline_logs[pipeline_id]\n",
    "    df_leaf_single = pipeline_leaf_times_df(logs, use_traintime_patch_at_trainer=True, pipeline_id=pipeline_id)\n",
    "    df_leaf_single[\"pipeline_id\"] = pipeline_id\n",
    "    df_leaf_list.append(df_leaf_single)\n",
    "\n",
    "    _, _, df_eval_single = dfs_models_and_evals(\n",
    "        pipeline_logs[pipeline_id], df_leaf_single[\"sample_time\"].max(), pipelines[pipeline_id][0]\n",
    "    )\n",
    "    df_eval_single[\"pipeline_id\"] = pipeline_id\n",
    "    list_df_eval_single.append(df_eval_single)\n",
    "\n",
    "df_adjusted = pd.concat(list_df_eval_single)\n",
    "df_adjusted\n",
    "\n",
    "df_leaf = pd.concat(df_leaf_list)\n",
    "df_leaf"
   ]
  },
  {
   "cell_type": "code",
   "execution_count": null,
   "metadata": {},
   "outputs": [],
   "source": [
    "print(df_leaf[\"id\"].unique())\n",
    "assert set(df_leaf[\"id\"].unique()) == {\n",
    "    \"TRAIN\",\n",
    "    \"INIT_CLUSTER_CONNECTION\",\n",
    "    \"EVALUATE_TRIGGER_POLICY\",\n",
    "    \"INFORM_SELECTOR_REMAINING_DATA\",\n",
    "    \"INFORM_SELECTOR_ABOUT_TRIGGER\",\n",
    "    \"TRAINING_COMPLETED\",\n",
    "    \"STORE_TRAINED_MODEL\",\n",
    "    \"EVALUATE\",\n",
    "    \"DONE\",\n",
    "}"
   ]
  },
  {
   "cell_type": "code",
   "execution_count": null,
   "metadata": {},
   "outputs": [],
   "source": [
    "df_adjusted = df_adjusted[\n",
    "    (df_adjusted[\"dataset_id\"] == dataset_id)\n",
    "    & (df_adjusted[\"eval_handler\"] == eval_handler)\n",
    "    & (df_adjusted[\"metric\"] == metric)\n",
    "]\n",
    "\n",
    "# in percent (0-100)\n",
    "df_adjusted[\"value\"] = df_adjusted[\"value\"] * 100\n",
    "df_adjusted"
   ]
  },
  {
   "cell_type": "code",
   "execution_count": null,
   "metadata": {},
   "outputs": [],
   "source": [
    "if patch_yearbook:\n",
    "    for column in [\"interval_start\", \"interval_center\", \"interval_end\"]:\n",
    "        patch_yearbook_time(df_adjusted, column)\n",
    "    patch_yearbook_time(df_leaf, \"sample_time\")"
   ]
  },
  {
   "cell_type": "code",
   "execution_count": null,
   "metadata": {},
   "outputs": [],
   "source": [
    "df_adjusted = df_adjusted.sort_values(by=[\"interval_center\"])"
   ]
  },
  {
   "cell_type": "code",
   "execution_count": null,
   "metadata": {},
   "outputs": [],
   "source": [
    "# Reduce to composite models\n",
    "df_adjusted = df_adjusted[df_adjusted[composite_model_variant]]\n",
    "df_adjusted[composite_model_variant].unique()"
   ]
  },
  {
   "cell_type": "code",
   "execution_count": null,
   "metadata": {},
   "outputs": [],
   "source": [
    "# reduce evaluation interval to interval where all policies have evaluations\n",
    "min_active_eval_center_per_pipeline = (\n",
    "    df_adjusted[df_adjusted[composite_model_variant]].groupby(\"pipeline_ref\")[\"interval_center\"].min()\n",
    ")\n",
    "maximum_min = min_active_eval_center_per_pipeline.max()\n",
    "print(maximum_min, min_active_eval_center_per_pipeline)\n",
    "\n",
    "assert maximum_min < pd.Timestamp(\"1950-01-01\")\n",
    "\n",
    "df_adjusted = df_adjusted[df_adjusted[\"interval_center\"] >= maximum_min]\n",
    "df_adjusted[\"interval_center\"].unique()"
   ]
  },
  {
   "cell_type": "code",
   "execution_count": null,
   "metadata": {},
   "outputs": [],
   "source": [
    "df_adjusted[\"interval_center\"] = df_adjusted[\"interval_center\"].astype(str).str.split(\"-\").str[0]"
   ]
  },
  {
   "cell_type": "code",
   "execution_count": null,
   "metadata": {},
   "outputs": [],
   "source": [
    "df_adjusted"
   ]
  },
  {
   "cell_type": "code",
   "execution_count": null,
   "metadata": {},
   "outputs": [],
   "source": [
    "# Aggregate metrics to a scalar value per pipeline\n",
    "mean_accuracies = df_aggregate_eval_metric(\n",
    "    df_adjusted,\n",
    "    group_by=[\"pipeline_id\", \"pipeline_ref\", \"metric\"],\n",
    "    in_col=\"value\",\n",
    "    out_col=\"metric_value\",\n",
    "    aggregate_func=\"mean\",\n",
    ")\n",
    "mean_accuracies"
   ]
  },
  {
   "cell_type": "code",
   "execution_count": null,
   "metadata": {},
   "outputs": [],
   "source": [
    "df_triggers = df_leaf[df_leaf[\"id\"] == PipelineStage.TRAIN.name]"
   ]
  },
  {
   "cell_type": "code",
   "execution_count": null,
   "metadata": {},
   "outputs": [],
   "source": [
    "df_triggers = df_leaf[df_leaf[\"id\"] == PipelineStage.TRAIN.name]\n",
    "df_triggers = df_triggers[df_triggers[\"sample_time\"] > maximum_min]\n",
    "df_triggers"
   ]
  },
  {
   "cell_type": "code",
   "execution_count": null,
   "metadata": {},
   "outputs": [],
   "source": [
    "# Find number of trigger per pipeline that are after maximum_min\n",
    "\n",
    "# before the cutoff there was one trigger (equivalent to start of our reduced dataset): +1\n",
    "num_triggers = df_triggers.groupby(\"pipeline_id\").aggregate(count=(\"id\", \"count\"), sum_duration=(\"duration\", \"sum\"))\n",
    "num_triggers[\"count\"] += 1\n",
    "num_triggers"
   ]
  },
  {
   "cell_type": "code",
   "execution_count": null,
   "metadata": {},
   "outputs": [],
   "source": [
    "merged = num_triggers.merge(mean_accuracies, on=\"pipeline_id\")\n",
    "assert mean_accuracies.shape[0] == merged.shape[0]\n",
    "merged"
   ]
  },
  {
   "cell_type": "code",
   "execution_count": null,
   "metadata": {},
   "outputs": [],
   "source": [
    "def create_type(x: str):\n",
    "    if \"year\" in x:\n",
    "        return \"time\"\n",
    "    elif \"samples\" in x:\n",
    "        return \"amount\"\n",
    "    elif \"d\" in x:\n",
    "        return \"drift\"\n",
    "    else:\n",
    "        return \"unknown\"\n",
    "\n",
    "\n",
    "merged[\"type\"] = merged[\"pipeline_ref\"].apply(lambda x: create_type(x))\n",
    "merged"
   ]
  },
  {
   "cell_type": "code",
   "execution_count": null,
   "metadata": {},
   "outputs": [],
   "source": [
    "# extract number if samples from pipeline name\n",
    "amount_policies = \"/\".join(\n",
    "    [\n",
    "        str(x)\n",
    "        for x in list(\n",
    "            sorted(merged[merged[\"type\"] == \"amount\"][\"pipeline_ref\"].str.extract(r\"(\\d+) .*\").astype(int)[0])\n",
    "        )\n",
    "    ]\n",
    ")\n",
    "time_policies = \"/\".join(\n",
    "    [\n",
    "        str(x)\n",
    "        for x in list(sorted(merged[merged[\"type\"] == \"time\"][\"pipeline_ref\"].str.extract(r\"(\\d+) .*\").astype(int)[0]))\n",
    "    ]\n",
    ")\n",
    "print(amount_policies)\n",
    "print(time_policies)\n",
    "\n",
    "renamed = merged.copy()\n",
    "renamed[\"Trigger Type\"] = renamed[\"type\"].apply(\n",
    "    lambda x: f\"Amount    \\n[{amount_policies} s.]\" if x == \"amount\" else f\"Time    [{time_policies} yrs.]\"\n",
    ")\n",
    "renamed"
   ]
  },
  {
   "cell_type": "code",
   "execution_count": null,
   "metadata": {},
   "outputs": [],
   "source": [
    "fig = plot_tradeoff_scatter(\n",
    "    renamed,\n",
    "    x=\"count\",\n",
    "    y=\"metric_value\",\n",
    "    hue=\"Trigger Type\",\n",
    "    style=\"Trigger Type\",\n",
    "    x_label=\"Number of Triggers\",\n",
    "    y_label=\"Mean Accuracy %\",\n",
    "    height_factor=0.6,\n",
    "    width_factor=0.65,\n",
    ")\n",
    "\n",
    "save_plot(fig, \"tradeoff_simple_yearbook_triggers_performance\")"
   ]
  },
  {
   "cell_type": "code",
   "execution_count": null,
   "metadata": {},
   "outputs": [],
   "source": [
    "in_minutes = renamed.copy()\n",
    "in_minutes[\"sum_duration\"] = in_minutes[\"sum_duration\"] / 60\n",
    "\n",
    "fig = plot_tradeoff_scatter(\n",
    "    in_minutes,\n",
    "    x=\"sum_duration\",\n",
    "    y=\"metric_value\",\n",
    "    hue=\"Trigger Type\",\n",
    "    style=\"Trigger Type\",\n",
    "    x_label=\"Total Cost (Minutes)\",\n",
    "    y_label=\"Mean Accuracy %\",\n",
    "    height_factor=0.6,\n",
    "    width_factor=0.65,\n",
    ")\n",
    "\n",
    "save_plot(fig, \"tradeoff_simple_yearbook_cost_performance\")"
   ]
  },
  {
   "cell_type": "code",
   "execution_count": null,
   "metadata": {},
   "outputs": [],
   "source": [
    "fig = plot_tradeoff_scatter(\n",
    "    renamed,\n",
    "    x=\"count\",\n",
    "    y=\"sum_duration\",\n",
    "    hue=\"Trigger Type\",\n",
    "    style=\"Trigger Type\",\n",
    "    x_label=\"Number of Triggers\",\n",
    "    y_label=\"Total Cost (seconds)\",\n",
    "    height_factor=0.6,\n",
    "    width_factor=0.8,\n",
    ")\n",
    "\n",
    "save_plot(fig, \"tradeoff_simple_yearbook_triggers_cost\")"
   ]
  }
 ],
 "metadata": {
  "kernelspec": {
   "display_name": "Python 3",
   "language": "python",
   "name": "python3"
  },
  "language_info": {
   "codemirror_mode": {
    "name": "ipython",
    "version": 3
   },
   "file_extension": ".py",
   "mimetype": "text/x-python",
   "name": "python",
   "nbconvert_exporter": "python",
   "pygments_lexer": "ipython3",
   "version": "3.12.3"
  }
 },
 "nbformat": 4,
 "nbformat_minor": 2
}
