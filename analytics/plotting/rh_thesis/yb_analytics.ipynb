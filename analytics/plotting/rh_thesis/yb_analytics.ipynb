{
 "cells": [
  {
   "cell_type": "code",
   "execution_count": null,
   "metadata": {},
   "outputs": [],
   "source": [
    "from pathlib import Path\n",
    "\n",
    "import pandas as pd\n",
    "\n",
    "from analytics.plotting.common.dataset_histogram import (\n",
    "    build_countplot,\n",
    "    build_histogram_multicategory_barnorm,\n",
    "    build_pieplot,\n",
    ")\n",
    "from analytics.plotting.common.save import save_plot\n",
    "\n",
    "%load_ext autoreload\n",
    "%autoreload 2"
   ]
  },
  {
   "cell_type": "code",
   "execution_count": null,
   "metadata": {},
   "outputs": [],
   "source": [
    "# use interactive plotly\n",
    "interactive = False"
   ]
  },
  {
   "cell_type": "code",
   "execution_count": null,
   "metadata": {},
   "outputs": [],
   "source": [
    "yb_samples: list[(int, int)] = []\n",
    "\"\"\"year, label\"\"\"\n",
    "\n",
    "for year in range(1930, 2014 + 1):\n",
    "    file1 = Path(f\"/Users/robinholzinger/robin/dev/eth/modyn-2/.data/datasets/yearbook/all/{year}.bin\")\n",
    "    file1_bytes = file1.read_bytes()\n",
    "\n",
    "    record_size = 12288 + 4  # 32 * 32 * 3 * 4 (width*height*channels*float32) + 4 (label)\n",
    "    label_size = 4\n",
    "\n",
    "    num_items = len(file1_bytes) // record_size\n",
    "\n",
    "    images_bin_year = []\n",
    "    for i in range(num_items):\n",
    "        label = file1_bytes[i * record_size : i * record_size + label_size]\n",
    "        yb_samples.append((year, int.from_bytes(label, byteorder=\"big\")))"
   ]
  },
  {
   "cell_type": "code",
   "execution_count": null,
   "metadata": {},
   "outputs": [],
   "source": [
    "yb_df = pd.DataFrame(yb_samples, columns=[\"year\", \"label\"])\n",
    "yb_df"
   ]
  },
  {
   "cell_type": "code",
   "execution_count": null,
   "metadata": {},
   "outputs": [],
   "source": [
    "# polished\n",
    "fig1 = build_countplot(\n",
    "    yb_df,\n",
    "    x=\"year\",\n",
    "    x_ticks=[1950, 1975, 2000],\n",
    "    y_ticks_bins=3,\n",
    "    height_factor=0.45,\n",
    "    width_factor=0.48,\n",
    "    x_label=\"Sample Time\",\n",
    "    y_label=\"Num. Samples\",\n",
    ")\n",
    "\n",
    "save_plot(fig1, \"yearbook_samples_over_time\")"
   ]
  },
  {
   "cell_type": "code",
   "execution_count": null,
   "metadata": {},
   "outputs": [],
   "source": [
    "label_map = {0: \"Male\", 1: \"Female\"}"
   ]
  },
  {
   "cell_type": "code",
   "execution_count": null,
   "metadata": {},
   "outputs": [],
   "source": [
    "sorted_categories = yb_df[\"label\"].value_counts().reset_index().sort_values(\"count\", ascending=False)\n",
    "sorted_categories[\"ratio\"] = sorted_categories[\"count\"] / sorted_categories[\"count\"].sum()\n",
    "sorted_categories[\"label\"] = sorted_categories[\"label\"].map(label_map)\n",
    "sorted_categories"
   ]
  },
  {
   "cell_type": "code",
   "execution_count": null,
   "metadata": {},
   "outputs": [],
   "source": [
    "yb_df[\"label\"] = yb_df[\"label\"].map(label_map)\n",
    "yb_df[\"date\"] = pd.to_datetime(yb_df[\"year\"], format=\"%Y\")"
   ]
  },
  {
   "cell_type": "code",
   "execution_count": null,
   "metadata": {},
   "outputs": [],
   "source": [
    "ratio = build_pieplot(\n",
    "    x=list(sorted_categories[\"count\"]),\n",
    "    labels=tuple(sorted_categories[\"label\"]),\n",
    "    width_factor=0.4,\n",
    "    height_factor=0.35,\n",
    ")\n",
    "save_plot(ratio, \"yearbook_samples_ratio\")"
   ]
  },
  {
   "cell_type": "code",
   "execution_count": null,
   "metadata": {},
   "outputs": [],
   "source": [
    "# we want the legend to have different sorting\n",
    "\n",
    "from analytics.plotting.common.color import main_color\n",
    "\n",
    "fig_ratio = build_histogram_multicategory_barnorm(\n",
    "    yb_df,\n",
    "    x=\"year\",\n",
    "    label=\"label\",\n",
    "    sorted_coloring_categories=sorted_categories[\"label\"],\n",
    "    height_factor=0.45,\n",
    "    width_factor=0.48,\n",
    "    legend=False,\n",
    "    legend_labels=[\"Male\", \"Female\"],\n",
    "    # x_ticks=[pd.to_datetime(f\"{y}-01-01\") for y in list(range(1930, 2014, 10))],\n",
    "    x_label=\"Sample Time\",\n",
    "    y_label=\"Label Distribution   \",\n",
    "    y_ticks=[1.0, 0.75, 0.5, 0.25, 0.0],\n",
    "    legend_title=\"Article Category\",\n",
    "    nbins=84,\n",
    "    manual_color_map={\n",
    "        \"Male\": main_color(0, light=True),\n",
    "        \"Female\": main_color(1),\n",
    "    },\n",
    "    grid_opacity=0.5,\n",
    "    col_alpha=1.0,\n",
    ")\n",
    "\n",
    "# Add manual text labels into the plot\n",
    "fig_ratio.text(0.28, 0.77, \"Male: 53.3% (19808)\", color=\"white\")\n",
    "fig_ratio.text(0.28, 0.33, \"Female: 46.7% (17382)\", color=\"white\")\n",
    "\n",
    "save_plot(fig_ratio, \"yearbook_label_distribution\")"
   ]
  }
 ],
 "metadata": {
  "kernelspec": {
   "display_name": "Python 3",
   "language": "python",
   "name": "python3"
  },
  "language_info": {
   "codemirror_mode": {
    "name": "ipython",
    "version": 3
   },
   "file_extension": ".py",
   "mimetype": "text/x-python",
   "name": "python",
   "nbconvert_exporter": "python",
   "pygments_lexer": "ipython3",
   "version": "3.12.3"
  }
 },
 "nbformat": 4,
 "nbformat_minor": 2
}
