{
 "cells": [
  {
   "cell_type": "code",
   "execution_count": null,
   "metadata": {},
   "outputs": [],
   "source": [
    "import pickle\n",
    "from pathlib import Path\n",
    "\n",
    "import pandas as pd\n",
    "import plotly.express as px\n",
    "\n",
    "from analytics.plotting.common.dataset_histogram import (\n",
    "    build_countplot,\n",
    "    build_cum_barplot,\n",
    "    build_histogram_multicategory_barnorm,\n",
    ")\n",
    "from analytics.plotting.common.save import save_plot\n",
    "from benchmark.arxiv_kaggle.data_generation import ArxivKaggleDataGenerator\n",
    "\n",
    "%load_ext autoreload\n",
    "%autoreload 2"
   ]
  },
  {
   "cell_type": "code",
   "execution_count": null,
   "metadata": {},
   "outputs": [],
   "source": [
    "# use interactive plotly\n",
    "interactive = False"
   ]
  },
  {
   "cell_type": "code",
   "execution_count": null,
   "metadata": {},
   "outputs": [],
   "source": [
    "arxiv_dataset = ArxivKaggleDataGenerator(\n",
    "    Path(\"/Users/robinholzinger/robin/dev/eth/modyn-2/.data/datasets/arxiv_kaggle/\"),\n",
    "    Path(\"/Users/robinholzinger/robin/dev/eth/modyn-2/.data/datasets/arxiv_kaggle/raw/arxiv.zip\"),\n",
    ")\n",
    "arxiv_dataset.extract_data(\n",
    "    Path(\"/Users/robinholzinger/robin/dev/eth/modyn-2/.data/datasets/arxiv_kaggle/raw/arxiv.zip\")\n",
    ")\n",
    "arxiv_df = arxiv_dataset.load_into_dataframe(keep_true_category=True)"
   ]
  },
  {
   "cell_type": "code",
   "execution_count": null,
   "metadata": {},
   "outputs": [],
   "source": [
    "pickle_path = Path(\"/Users/robinholzinger/robin/dev/eth/modyn-2/.data/datasets/arxiv_kaggle/raw/arxiv_kaggle.pkl\")"
   ]
  },
  {
   "cell_type": "code",
   "execution_count": null,
   "metadata": {},
   "outputs": [],
   "source": [
    "pickle.dump(arxiv_df, open(pickle_path, \"wb\"))"
   ]
  },
  {
   "cell_type": "code",
   "execution_count": null,
   "metadata": {},
   "outputs": [],
   "source": [
    "arxiv_df = pickle.load(open(pickle_path, \"rb\"))"
   ]
  },
  {
   "cell_type": "code",
   "execution_count": null,
   "metadata": {},
   "outputs": [],
   "source": [
    "arxiv_df = arxiv_df[arxiv_df[\"first_version_timestamp\"] >= \"1990-01-01\"]"
   ]
  },
  {
   "cell_type": "code",
   "execution_count": null,
   "metadata": {},
   "outputs": [],
   "source": [
    "arxiv_df[\"category\"].unique()"
   ]
  },
  {
   "cell_type": "code",
   "execution_count": null,
   "metadata": {},
   "outputs": [],
   "source": [
    "arxiv_df[\"year\"] = arxiv_df[\"first_version_timestamp\"].dt.year"
   ]
  },
  {
   "cell_type": "code",
   "execution_count": null,
   "metadata": {},
   "outputs": [],
   "source": [
    "arxiv_df[\"year\"].max()"
   ]
  },
  {
   "cell_type": "code",
   "execution_count": null,
   "metadata": {},
   "outputs": [],
   "source": [
    "# number of samples over time\n",
    "if interactive:\n",
    "    fig = px.histogram(\n",
    "        arxiv_df,\n",
    "        x=\"first_version_timestamp\",\n",
    "        color=\"category\",\n",
    "        facet_col=\"category\",\n",
    "        facet_col_wrap=6,\n",
    "        height=5000,\n",
    "        facet_row_spacing=0.001,\n",
    "    )\n",
    "    fig.update_yaxes(matches=None, showticklabels=True)\n",
    "    fig.update_xaxes(showticklabels=True)\n",
    "    fig.show()\n",
    "\n",
    "else:\n",
    "    # polished\n",
    "    fig1 = build_countplot(\n",
    "        arxiv_df,\n",
    "        x=\"year\",\n",
    "        x_ticks=[y for y in range(1990, 2020 + 1, 5)],\n",
    "        y_ticks_bins=4,\n",
    "        height_factor=0.4,\n",
    "        width_factor=1.0,\n",
    "        x_label=\"Sample Time\",\n",
    "        y_label=\"Num Samples\",\n",
    "    )\n",
    "\n",
    "    save_plot(fig1, \"arxiv_kaggle_samples_over_time\")"
   ]
  },
  {
   "cell_type": "code",
   "execution_count": null,
   "metadata": {},
   "outputs": [],
   "source": [
    "category_and_years = arxiv_df[[\"category\", \"first_version_timestamp\"]]\n",
    "category_and_years[\"year\"] = category_and_years[\"first_version_timestamp\"].dt.year\n",
    "category_and_years = category_and_years[[\"category\", \"year\"]].drop_duplicates()\n",
    "category_and_years = category_and_years.groupby(\"category\").size().reset_index()\n",
    "category_and_years.columns = [\"category\", \"num_years\"]\n",
    "category_and_years[category_and_years[\"num_years\"] > 9]"
   ]
  },
  {
   "cell_type": "code",
   "execution_count": null,
   "metadata": {},
   "outputs": [],
   "source": [
    "arxiv_df_reduced = arxiv_df.merge(category_and_years, on=\"category\")"
   ]
  },
  {
   "cell_type": "code",
   "execution_count": null,
   "metadata": {},
   "outputs": [],
   "source": [
    "def find_category_ratios(df: pd.DataFrame) -> pd.DataFrame:\n",
    "    total_samples = df.shape[0]\n",
    "    category_counts = df[\"category\"].value_counts().reset_index().sort_values(\"count\", ascending=False)\n",
    "    category_counts[\"ratio\"] = category_counts[\"count\"] / total_samples\n",
    "    return category_counts"
   ]
  },
  {
   "cell_type": "code",
   "execution_count": null,
   "metadata": {},
   "outputs": [],
   "source": [
    "# Analyse ratio of categories\n",
    "category_counts = find_category_ratios(arxiv_df_reduced)\n",
    "category_counts"
   ]
  },
  {
   "cell_type": "code",
   "execution_count": null,
   "metadata": {},
   "outputs": [],
   "source": [
    "wordcloud: list[str] = []\n",
    "for i, category in enumerate(list(category_counts[\"category\"].unique())):\n",
    "    for _ in range(100 - i):\n",
    "        wordcloud.append(category)\n",
    "print(wordcloud)"
   ]
  },
  {
   "cell_type": "code",
   "execution_count": null,
   "metadata": {},
   "outputs": [],
   "source": [
    "# Export for thesis table\n",
    "from analytics.plotting.common.save import save_csv_df\n",
    "\n",
    "# select top 8 and bottom 2\n",
    "export_csv = pd.concat([category_counts.head(8)])  # , category_counts.tail(2)\n",
    "export_csv[\"ratio\"] = export_csv[\"ratio\"].apply(lambda x: round(x * 100, 1))\n",
    "print(export_csv)\n",
    "\n",
    "save_csv_df(export_csv, \"arxiv_kaggle_category_ratios\")"
   ]
  },
  {
   "cell_type": "code",
   "execution_count": null,
   "metadata": {},
   "outputs": [],
   "source": [
    "sorted_categories = (category_counts.sort_values(\"count\", ascending=False))[\"category\"]\n",
    "sorted_categories\n",
    "\n",
    "\n",
    "arxiv_df_reduced[\"sort_idx\"] = pd.Categorical(arxiv_df_reduced[\"category\"], categories=sorted_categories, ordered=True)\n",
    "arxiv_df_reduced = arxiv_df_reduced.sort_values(\"sort_idx\", ascending=False)"
   ]
  },
  {
   "cell_type": "code",
   "execution_count": null,
   "metadata": {},
   "outputs": [],
   "source": [
    "plotting_threshold = category_counts.reset_index()[[\"index\", \"ratio\"]]\n",
    "plotting_threshold[\"index\"] = plotting_threshold[\"index\"] + 1\n",
    "# add first row: 0\n",
    "plotting_threshold = pd.concat([pd.DataFrame({\"index\": [0], \"ratio\": [0]}), plotting_threshold])\n",
    "\n",
    "# cumulative sum\n",
    "plotting_threshold[\"ratio\"] = plotting_threshold[\"ratio\"].cumsum() * 100\n",
    "plotting_threshold"
   ]
  },
  {
   "cell_type": "code",
   "execution_count": null,
   "metadata": {},
   "outputs": [],
   "source": [
    "# Plot coverage of categories\n",
    "label_hist = build_cum_barplot(\n",
    "    plotting_threshold,\n",
    "    x=\"index\",\n",
    "    y=\"ratio\",\n",
    "    x_label=\"Categories\",\n",
    "    y_label=\"% of Dataset\",\n",
    "    height_factor=0.4,\n",
    "    width_factor=0.4,\n",
    "    y_ticks_bins=3,\n",
    "    x_ticks_bins=4,\n",
    ")\n",
    "save_plot(label_hist, \"arxiv_kaggle_category_coverage\")"
   ]
  },
  {
   "cell_type": "code",
   "execution_count": null,
   "metadata": {},
   "outputs": [],
   "source": [
    "# we want to find out the ratio of the dataset that we cover when only\n",
    "# show the top 24 categories\n",
    "category_counts.sort_values(\"ratio\", ascending=False).head(n=24)[\"ratio\"].sum()"
   ]
  },
  {
   "cell_type": "code",
   "execution_count": null,
   "metadata": {},
   "outputs": [],
   "source": [
    "# legend: find the top 10 labels\n",
    "labels = category_counts[\"category\"].head(n=10)\n",
    "fig_labels_distribution = build_histogram_multicategory_barnorm(\n",
    "    arxiv_df_reduced,\n",
    "    x=\"first_version_timestamp\",\n",
    "    label=\"category\",\n",
    "    sorted_coloring_categories=sorted_categories,\n",
    "    height_factor=0.65,\n",
    "    width_factor=1.0,\n",
    "    legend_labels=list(labels),\n",
    "    x_label=\"Sample Time\",\n",
    "    y_label=\"Label Distribution\",\n",
    "    y_ticks=[1.0, 0.75, 0.5, 0.25, 0.0],\n",
    "    y_ticks_bins=4,\n",
    "    x_ticks=[\n",
    "        pd.to_datetime(d) for d in [\"1991-09-01\", \"1996-07-01\", \"2000-01-01\", \"2009-01-01\", \"2014-01-01\", \"2018-01-01\"]\n",
    "    ],\n",
    "    legend_title=\"Paper Category\",\n",
    "    nbins=60,\n",
    ")\n",
    "save_plot(fig_labels_distribution, \"arxiv_kaggle_category_relative\")"
   ]
  },
  {
   "cell_type": "code",
   "execution_count": null,
   "metadata": {},
   "outputs": [],
   "source": [
    "# legend: find the top 10 labels\n",
    "labels = category_counts[\"category\"][category_counts[\"category\"].str.contains(\"astro-ph\")].head(n=10)\n",
    "fig_labels_distribution = build_histogram_multicategory_barnorm(\n",
    "    arxiv_df_reduced[arxiv_df_reduced[\"category\"].str.contains(\"astro-ph\")],\n",
    "    x=\"first_version_timestamp\",\n",
    "    label=\"category\",\n",
    "    sorted_coloring_categories=sorted_categories,\n",
    "    height_factor=0.65,\n",
    "    width_factor=1.0,\n",
    "    legend_labels=list(labels),\n",
    "    x_label=\"Sample Time\",\n",
    "    y_label=\"Label Distribution\",\n",
    "    y_ticks=[1.0, 0.75, 0.5, 0.25, 0.0],\n",
    "    y_ticks_bins=4,\n",
    "    x_ticks=[\n",
    "        pd.to_datetime(d) for d in [\"1991-09-01\", \"1996-07-01\", \"2000-01-01\", \"2009-01-01\", \"2014-01-01\", \"2018-01-01\"]\n",
    "    ],\n",
    "    legend_title=\"Paper Category\",\n",
    "    nbins=60,\n",
    ")\n",
    "save_plot(fig_labels_distribution, \"arxiv_kaggle_category_relative_astro_ph\")"
   ]
  }
 ],
 "metadata": {
  "kernelspec": {
   "display_name": "Python 3",
   "language": "python",
   "name": "python3"
  },
  "language_info": {
   "codemirror_mode": {
    "name": "ipython",
    "version": 3
   },
   "file_extension": ".py",
   "mimetype": "text/x-python",
   "name": "python",
   "nbconvert_exporter": "python",
   "pygments_lexer": "ipython3",
   "version": "3.12.3"
  }
 },
 "nbformat": 4,
 "nbformat_minor": 2
}
