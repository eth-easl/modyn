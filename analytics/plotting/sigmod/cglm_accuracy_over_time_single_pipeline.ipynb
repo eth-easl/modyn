{
 "cells": [
  {
   "cell_type": "code",
   "execution_count": null,
   "metadata": {},
   "outputs": [],
   "source": [
    "from pathlib import Path\n",
    "from analytics.app.data.load import list_pipelines\n",
    "from analytics.app.data.transform import dfs_models_and_evals\n",
    "from analytics.app.data.transform import patch_yearbook_time\n",
    "from analytics.app.data.transform import logs_dataframe\n",
    "import pandas as pd\n",
    "import seaborn as sns\n",
    "import matplotlib.pyplot as plt\n",
    "import numpy as np\n",
    "\n",
    "from analytics.plotting.common.common import SAVE_PLOT\n",
    "\n",
    "%load_ext autoreload\n",
    "%autoreload 2"
   ]
  },
  {
   "cell_type": "code",
   "execution_count": null,
   "metadata": {},
   "outputs": [],
   "source": [
    "# INPUTS\n",
    "\n",
    "pipelines_dir = Path(\n",
    "    \"/Users/robinholzinger/robin/dev/eth/modyn-sigmod-data/cglm-landmark/data_selection/logs_agg_patch_currently_trained\"\n",
    ")\n",
    "output_dir = Path(\n",
    "    \"/Users/robinholzinger/robin/dev/eth/modyn-2/.analytics.log/.data/_plots\"\n",
    ")\n",
    "assert pipelines_dir.exists()\n",
    "assert output_dir.exists()"
   ]
  },
  {
   "cell_type": "code",
   "execution_count": null,
   "metadata": {},
   "outputs": [],
   "source": [
    "pipelines = list_pipelines(pipelines_dir)\n",
    "# rename\n",
    "max_pipeline_id = max(pipelines.keys())\n",
    "pipelines[24]"
   ]
  },
  {
   "cell_type": "code",
   "execution_count": null,
   "metadata": {},
   "outputs": [],
   "source": [
    "from analytics.app.data.load import load_pipeline_logs\n",
    "\n",
    "\n",
    "pipeline_logs = {\n",
    "    p_id: load_pipeline_logs(p_id, pipelines_dir)\n",
    "    for (p_id, (_, p_path)) in pipelines.items()\n",
    "}"
   ]
  },
  {
   "cell_type": "code",
   "execution_count": null,
   "metadata": {},
   "outputs": [],
   "source": [
    "dataset_id = \"cglm_landmark_min25-test\"\n",
    "eval_handler = \"exactmatrix\"\n",
    "metric = \"Top-5-Accuracy\"\n",
    "pipeline_id = 24\n",
    "non_composite_models = [7, 9, 10, 15]"
   ]
  },
  {
   "cell_type": "markdown",
   "metadata": {},
   "source": [
    "# Wrangle data"
   ]
  },
  {
   "cell_type": "code",
   "execution_count": null,
   "metadata": {},
   "outputs": [],
   "source": [
    "df_all = logs_dataframe(pipeline_logs[pipeline_id], \"100%_baseline\")\n",
    "_, _, df_eval_single = dfs_models_and_evals(\n",
    "    pipeline_logs[pipeline_id], df_all[\"sample_time\"].max(), pipelines[pipeline_id][0]\n",
    ")\n",
    "\n",
    "df_adjusted = df_eval_single\n",
    "df_adjusted"
   ]
  },
  {
   "cell_type": "code",
   "execution_count": null,
   "metadata": {},
   "outputs": [],
   "source": [
    "# Filter out first two and last evaluations on CGLM because it's very small\n",
    "df_adjusted = df_adjusted[df_adjusted[\"dataset_size\"] > 300]"
   ]
  },
  {
   "cell_type": "code",
   "execution_count": null,
   "metadata": {},
   "outputs": [],
   "source": [
    "df_adjusted[\"pipeline_ref\"].unique()\n"
   ]
  },
  {
   "cell_type": "code",
   "execution_count": null,
   "metadata": {},
   "outputs": [],
   "source": [
    "# df_adjusted[\"dataset_id\"].unique()\n",
    "df_adjusted[df_adjusted[\"dataset_id\"] == \"yearbook-test\"][\"pipeline_ref\"].unique()\n"
   ]
  },
  {
   "cell_type": "code",
   "execution_count": null,
   "metadata": {},
   "outputs": [],
   "source": [
    "df_adjusted = df_adjusted[\n",
    "    (df_adjusted[\"dataset_id\"] == dataset_id)\n",
    "    & (df_adjusted[\"eval_handler\"] == eval_handler)\n",
    "    & (df_adjusted[\"metric\"] == metric)\n",
    "]\n",
    "\n",
    "# in percent (0-100)\n",
    "df_adjusted[\"value\"] = df_adjusted[\"value\"] * 100\n",
    "df_adjusted"
   ]
  },
  {
   "cell_type": "code",
   "execution_count": null,
   "metadata": {},
   "outputs": [],
   "source": [
    "df_adjusted = df_adjusted.sort_values(by=[\"interval_center\"])"
   ]
  },
  {
   "cell_type": "code",
   "execution_count": null,
   "metadata": {},
   "outputs": [],
   "source": [
    "# Add composite model\n",
    "\n",
    "df_composite_currently_trained = df_adjusted[df_adjusted[\"currently_trained_model\"]]\n",
    "df_composite_currently_trained[\"composite\"] = True\n",
    "df_composite_currently_trained[\"model_idx\"] = \"Curr. Trained\"\n",
    "\n",
    "df_composite_currently_active = df_adjusted[df_adjusted[\"currently_active_model\"]]\n",
    "df_composite_currently_active[\"composite\"] = True\n",
    "df_composite_currently_active[\"model_idx\"] = \"Curr. Active\"\n",
    "\n",
    "df_non_composite_selection = df_adjusted[\n",
    "    df_adjusted[\"model_idx\"].isin([x for x in non_composite_models])\n",
    "]\n",
    "df_non_composite_selection[\"composite\"] = False\n",
    "\n",
    "df_composite = pd.concat([df_composite_currently_trained, df_composite_currently_active, df_non_composite_selection])\n",
    "\n",
    "# df_composite = df_composite[\n",
    "#     df_composite[\"model_idx\"].isin(\n",
    "#         [str(x) for x in shown_non_composite_models] + [\"00-pipeline-composite-model\"]\n",
    "#     )\n",
    "# ]"
   ]
  },
  {
   "cell_type": "markdown",
   "metadata": {},
   "source": [
    "# Dump Data backup"
   ]
  },
  {
   "cell_type": "markdown",
   "metadata": {},
   "source": [
    "# Create Plot"
   ]
  },
  {
   "cell_type": "code",
   "execution_count": null,
   "metadata": {},
   "outputs": [],
   "source": [
    "# datetime to date\n",
    "df_composite[\"interval_center\"] = df_composite[\"interval_center\"].dt.date"
   ]
  },
  {
   "cell_type": "code",
   "execution_count": null,
   "metadata": {},
   "outputs": [],
   "source": [
    "df_composite[df_composite[\"model_idx\"] == 3]"
   ]
  },
  {
   "cell_type": "code",
   "execution_count": null,
   "metadata": {},
   "outputs": [],
   "source": [
    "palette = sns.color_palette(\"RdBu\", 10)\n",
    "palette"
   ]
  },
  {
   "cell_type": "code",
   "execution_count": null,
   "metadata": {},
   "outputs": [],
   "source": [
    "from turtle import title\n",
    "import matplotlib as mpl\n",
    "from analytics.plotting.common.common import FIG_LEGEND, INIT_PLOT\n",
    "\n",
    "INIT_PLOT()\n",
    "plt.rcParams['svg.fonttype'] = 'none'\n",
    "sns.set_style(\"whitegrid\")\n",
    "\n",
    "FONTSIZE = 20\n",
    "DOUBLE_FIG_WIDTH = 10\n",
    "DOUBLE_FIG_HEIGHT = 3.5\n",
    "DOUBLE_FIG_SIZE = (DOUBLE_FIG_WIDTH, 1.2 * DOUBLE_FIG_HEIGHT)\n",
    "\n",
    "fig = plt.figure(\n",
    "    edgecolor=\"black\",\n",
    "    frameon=True,\n",
    "    figsize=DOUBLE_FIG_SIZE,\n",
    "    dpi=300,\n",
    ")\n",
    "\n",
    "ax = sns.lineplot(\n",
    "# ax = sns.pointplot(\n",
    "    df_composite[~df_composite[\"composite\"]],\n",
    "    x='interval_center',\n",
    "    y='value',\n",
    "    hue='model_idx',\n",
    "    style=\"composite\",\n",
    "    style_order=[True, False],\n",
    "    markers=False,\n",
    "    palette=[\"silver\"],\n",
    "    linewidth=2,\n",
    ")\n",
    "\n",
    "ax = sns.lineplot(\n",
    "# ax = sns.pointplot(\n",
    "    df_composite[df_composite[\"composite\"]],\n",
    "    ax=ax,\n",
    "    x='interval_center',\n",
    "    y='value',\n",
    "    hue='model_idx',\n",
    "    style=\"model_idx\",\n",
    "    # style=\"composite\",\n",
    "    # style_order=[True, False],\n",
    "    markers=True,\n",
    "    markersize=12.5,\n",
    "    palette=[palette[1], palette[-2]],\n",
    "    linewidth=3\n",
    ")\n",
    "\n",
    "ax.set(ylim=(-2, 80))\n",
    "\n",
    "# Adjust x-axis tick labels\n",
    "plt.xlabel(\"Evaluation Year\", labelpad=10)\n",
    "x_start = 2010\n",
    "x_ticks = [pd.to_datetime(f\"2007-01-01\")] + [pd.to_datetime(f\"{x}-01-01\") for x in range(x_start, 2025, 5)]\n",
    "x_labels = [\"2007\"] + [f\"{x}\" for x in range(x_start, 2025, 5)]\n",
    "plt.xticks(x_ticks, x_labels, rotation=0)\n",
    "\n",
    "# Set y-axis ticks to be equally spaced\n",
    "plt.ylabel(\"Top-5 Accuracy %\", labelpad=15)\n",
    "\n",
    "\n",
    "# Map the hue labels to their LaTeX equivalents\n",
    "handles, labels = ax.get_legend_handles_labels()\n",
    "label_map = {}\n",
    "# extra spaces because latex fonts will be bigger\n",
    "latex_labels = [f\"{label_map.get(label, label)}         \" for label in labels]\n",
    "legend = ax.legend(\n",
    "    # title=\"Selection Policy     \",\n",
    "    loc='upper left',\n",
    "    # ncol=4,\n",
    "    handles=handles[8:11],\n",
    "    labels=latex_labels[8:11],\n",
    "    labelspacing=0.3,\n",
    "    columnspacing=0.9,\n",
    ")\n",
    "\n",
    "\n",
    "# Display the plot\n",
    "plt.tight_layout()\n",
    "plt.show()"
   ]
  },
  {
   "cell_type": "markdown",
   "metadata": {},
   "source": [
    "# Save Plot as svg"
   ]
  },
  {
   "cell_type": "code",
   "execution_count": null,
   "metadata": {},
   "outputs": [],
   "source": [
    "for img_type in [\"png\", \"svg\"]:\n",
    "    img_path = output_dir / f\"composite.{img_type}\"\n",
    "    fig.savefig(img_path, bbox_inches=\"tight\", dpi=300)"
   ]
  }
 ],
 "metadata": {
  "kernelspec": {
   "display_name": "Python 3",
   "language": "python",
   "name": "python3"
  },
  "language_info": {
   "codemirror_mode": {
    "name": "ipython",
    "version": 3
   },
   "file_extension": ".py",
   "mimetype": "text/x-python",
   "name": "python",
   "nbconvert_exporter": "python",
   "pygments_lexer": "ipython3",
   "version": "3.12.3"
  }
 },
 "nbformat": 4,
 "nbformat_minor": 2
}
