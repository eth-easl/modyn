{
 "cells": [
  {
   "cell_type": "code",
   "execution_count": null,
   "metadata": {},
   "outputs": [],
   "source": [
    "from pathlib import Path\n",
    "\n",
    "import matplotlib.pyplot as plt\n",
    "import pandas as pd\n",
    "import seaborn as sns\n",
    "\n",
    "from analytics.app.data.load import list_pipelines\n",
    "from analytics.app.data.transform import dfs_models_and_evals, logs_dataframe, patch_yearbook_time\n",
    "\n",
    "%load_ext autoreload\n",
    "%autoreload 2"
   ]
  },
  {
   "cell_type": "code",
   "execution_count": null,
   "metadata": {},
   "outputs": [],
   "source": [
    "# INPUTS\n",
    "\n",
    "pipelines_dir = Path(\"/Users/robinholzinger/robin/dev/eth/modyn-sigmod-data/yearbook/data_selection_50%/logs_agg_patch\")\n",
    "output_dir = Path(\"/Users/robinholzinger/robin/dev/eth/modyn-2/.analytics.log/.data/_plots\")\n",
    "assert pipelines_dir.exists()\n",
    "assert output_dir.exists()"
   ]
  },
  {
   "cell_type": "code",
   "execution_count": null,
   "metadata": {},
   "outputs": [],
   "source": [
    "def map_pipeline_names(pipeline_ref: str) -> str:\n",
    "    stripped = pipeline_ref.removeprefix(\"yearbook_yearbooknet_\").removesuffix(\"_nosched_epoch5_warm2\")\n",
    "    return {\"full\": \"Full\", \"rs2wo\": \"RS2\", \"grad_bts\": \"DLIS\", \"margin_bts\": \"Margin\"}.get(stripped, stripped)"
   ]
  },
  {
   "cell_type": "code",
   "execution_count": null,
   "metadata": {},
   "outputs": [],
   "source": [
    "pipelines = list_pipelines(pipelines_dir)\n",
    "# rename\n",
    "pipelines = {int(k): (map_pipeline_names(v[0]), v[1]) for k, v in pipelines.items()}\n",
    "max_pipeline_id = max(pipelines.keys())"
   ]
  },
  {
   "cell_type": "code",
   "execution_count": null,
   "metadata": {},
   "outputs": [],
   "source": [
    "from analytics.app.data.load import load_pipeline_logs\n",
    "\n",
    "pipeline_logs = {\n",
    "    p_id: load_pipeline_logs(p_id, pipelines_dir)\n",
    "    for (p_id, (_, p_path)) in pipelines.items()\n",
    "    if p_id != 21  # exclude rho loss\n",
    "}"
   ]
  },
  {
   "cell_type": "code",
   "execution_count": null,
   "metadata": {},
   "outputs": [],
   "source": [
    "# mode:\n",
    "# single pipeline\n",
    "composite_model_variant = \"currently_trained_model\"  # currently_trained_model\n",
    "patch_yearbook = True\n",
    "dataset_id = \"yearbook_test\"\n",
    "eval_handler = \"slidingmatrix\"\n",
    "metric = \"Accuracy\"\n",
    "pipeline_ids = [5, 11, 18, 25]"
   ]
  },
  {
   "cell_type": "markdown",
   "metadata": {},
   "source": [
    "# Wrangle data"
   ]
  },
  {
   "cell_type": "code",
   "execution_count": null,
   "metadata": {},
   "outputs": [],
   "source": [
    "df_all = logs_dataframe(pipeline_logs[5], \"100%_baseline\")\n",
    "\n",
    "list_df_eval_single: list[pd.DataFrame] = []\n",
    "\n",
    "for pipeline_id in pipeline_ids:\n",
    "    _, _, df_eval_single = dfs_models_and_evals(\n",
    "        pipeline_logs[pipeline_id], df_all[\"sample_time\"].max(), pipelines[pipeline_id][0]\n",
    "    )\n",
    "    list_df_eval_single.append(df_eval_single)\n",
    "\n",
    "df_adjusted = pd.concat(list_df_eval_single)\n",
    "df_adjusted"
   ]
  },
  {
   "cell_type": "code",
   "execution_count": null,
   "metadata": {},
   "outputs": [],
   "source": [
    "df_adjusted[\"pipeline_ref\"].unique()"
   ]
  },
  {
   "cell_type": "code",
   "execution_count": null,
   "metadata": {},
   "outputs": [],
   "source": [
    "# df_adjusted[\"dataset_id\"].unique()\n",
    "df_adjusted[df_adjusted[\"dataset_id\"] == \"yearbook-test\"][\"pipeline_ref\"].unique()"
   ]
  },
  {
   "cell_type": "code",
   "execution_count": null,
   "metadata": {},
   "outputs": [],
   "source": [
    "df_adjusted = df_adjusted[\n",
    "    (df_adjusted[\"dataset_id\"] == dataset_id)\n",
    "    & (df_adjusted[\"eval_handler\"] == eval_handler)\n",
    "    & (df_adjusted[\"metric\"] == metric)\n",
    "]\n",
    "\n",
    "# in percent (0-100)\n",
    "df_adjusted[\"value\"] = df_adjusted[\"value\"] * 100\n",
    "df_adjusted"
   ]
  },
  {
   "cell_type": "code",
   "execution_count": null,
   "metadata": {},
   "outputs": [],
   "source": [
    "if patch_yearbook:\n",
    "    for column in [\"interval_start\", \"interval_center\", \"interval_end\"]:\n",
    "        patch_yearbook_time(df_adjusted, column)"
   ]
  },
  {
   "cell_type": "code",
   "execution_count": null,
   "metadata": {},
   "outputs": [],
   "source": [
    "df_adjusted = df_adjusted.sort_values(by=[\"interval_center\"])"
   ]
  },
  {
   "cell_type": "code",
   "execution_count": null,
   "metadata": {},
   "outputs": [],
   "source": [
    "# Add composite model\n",
    "\n",
    "df_composite = df_adjusted[df_adjusted[composite_model_variant]]\n",
    "df_composite"
   ]
  },
  {
   "cell_type": "markdown",
   "metadata": {},
   "source": [
    "# Dump Data backup"
   ]
  },
  {
   "cell_type": "markdown",
   "metadata": {},
   "source": [
    "# Create Plot"
   ]
  },
  {
   "cell_type": "code",
   "execution_count": null,
   "metadata": {},
   "outputs": [],
   "source": [
    "df_composite[\"interval_center\"] = df_composite[\"interval_center\"].astype(str).str.split(\"-\").str[0]\n",
    "df_composite"
   ]
  },
  {
   "cell_type": "code",
   "execution_count": null,
   "metadata": {},
   "outputs": [],
   "source": [
    "df_composite[df_composite[\"model_idx\"] == 3]"
   ]
  },
  {
   "cell_type": "code",
   "execution_count": null,
   "metadata": {},
   "outputs": [],
   "source": [
    "palette = sns.color_palette(\"RdBu\", 10)\n",
    "palette"
   ]
  },
  {
   "cell_type": "code",
   "execution_count": null,
   "metadata": {},
   "outputs": [],
   "source": [
    "palette2 = sns.color_palette(\"colorblind\", 10)\n",
    "palette2"
   ]
  },
  {
   "cell_type": "code",
   "execution_count": null,
   "metadata": {},
   "outputs": [],
   "source": [
    "from analytics.plotting.common.common import INIT_PLOT\n",
    "\n",
    "INIT_PLOT()\n",
    "plt.rcParams[\"svg.fonttype\"] = \"none\"\n",
    "sns.set_style(\"whitegrid\")\n",
    "\n",
    "FONTSIZE = 20\n",
    "DOUBLE_FIG_WIDTH = 10\n",
    "DOUBLE_FIG_HEIGHT = 3.5\n",
    "DOUBLE_FIG_SIZE = (DOUBLE_FIG_WIDTH, 1.2 * DOUBLE_FIG_HEIGHT)\n",
    "\n",
    "fig = plt.figure(\n",
    "    edgecolor=\"black\",\n",
    "    frameon=True,\n",
    "    figsize=DOUBLE_FIG_SIZE,\n",
    "    dpi=300,\n",
    ")\n",
    "\n",
    "ax = sns.lineplot(\n",
    "    # ax = sns.pointplot(\n",
    "    df_composite,\n",
    "    x=\"interval_center\",\n",
    "    y=\"value\",\n",
    "    hue=\"pipeline_ref\",\n",
    "    markersize=2,\n",
    "    # line width\n",
    "    linewidth=2.5,\n",
    "    palette=[palette[1], palette[-2], palette2[1], palette2[2]],\n",
    "    style=\"pipeline_ref\",\n",
    ")\n",
    "ax.set(xlim=(0, 85))\n",
    "ax.set(ylim=(58, 100))\n",
    "\n",
    "\n",
    "# Adjust x-axis tick labels\n",
    "plt.xlabel(\"Evaluation Year\")\n",
    "\n",
    "# reduce number of xticks\n",
    "x_ticks = 20\n",
    "current_xticks = plt.xticks()[0]\n",
    "new_xticks = current_xticks[::x_ticks]\n",
    "plt.xticks(\n",
    "    new_xticks,\n",
    "    rotation=45,\n",
    "    # ha='right'\n",
    ")\n",
    "\n",
    "# Set y-axis ticks to be equally spaced\n",
    "plt.xticks(\n",
    "    ticks=[x for x in range(0, 2010 - 1930 + 1, 20)],\n",
    "    labels=[x for x in range(1930, 2010 + 1, 20)],\n",
    "    rotation=0,\n",
    "    # ha='right'\n",
    ")\n",
    "plt.ylabel(\"Accuracy %\")\n",
    "\n",
    "\n",
    "# Map the hue labels to their LaTeX equivalents\n",
    "handles, labels = ax.get_legend_handles_labels()\n",
    "label_map = {\n",
    "    \"Full\": \"Full\",\n",
    "    \"RS2 (w/o)\": \"RS2 (w/o)\",\n",
    "    \"DLIS\": \"DLIS\",\n",
    "    \"Margin\": \"Margin \",\n",
    "}\n",
    "# extra spaces because latex fonts will be bigger\n",
    "latex_labels = [f\"{label_map.get(label, label)}  \" for label in labels]\n",
    "legend = ax.legend(\n",
    "    # title=\"Selection Policy     \",\n",
    "    loc=\"lower left\",\n",
    "    ncol=2,\n",
    "    handles=handles,\n",
    "    labels=latex_labels,\n",
    "    labelspacing=0.2,\n",
    "    columnspacing=0.9,\n",
    "    handlelength=1.3,\n",
    "    bbox_to_anchor=(0.05, 0.05),\n",
    ")\n",
    "\n",
    "\n",
    "# set aspect ratio\n",
    "# ax.set_aspect(0.4)\n",
    "plt.setp(legend.get_title())\n",
    "\n",
    "# Display the plot\n",
    "plt.tight_layout()\n",
    "plt.show()"
   ]
  },
  {
   "cell_type": "markdown",
   "metadata": {},
   "source": [
    "# Save Plot as svg"
   ]
  },
  {
   "cell_type": "code",
   "execution_count": null,
   "metadata": {},
   "outputs": [],
   "source": [
    "for img_type in [\"png\", \"svg\"]:\n",
    "    img_path = output_dir / f\"eval_over_time.{img_type}\"\n",
    "    fig.savefig(img_path, bbox_inches=\"tight\", dpi=300)"
   ]
  }
 ],
 "metadata": {
  "kernelspec": {
   "display_name": "Python 3",
   "language": "python",
   "name": "python3"
  },
  "language_info": {
   "codemirror_mode": {
    "name": "ipython",
    "version": 3
   },
   "file_extension": ".py",
   "mimetype": "text/x-python",
   "name": "python",
   "nbconvert_exporter": "python",
   "pygments_lexer": "ipython3",
   "version": "3.12.3"
  }
 },
 "nbformat": 4,
 "nbformat_minor": 2
}
