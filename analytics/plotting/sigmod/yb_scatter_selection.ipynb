{
 "cells": [
  {
   "cell_type": "code",
   "execution_count": null,
   "metadata": {},
   "outputs": [],
   "source": [
    "import re\n",
    "from pathlib import Path\n",
    "\n",
    "import matplotlib.pyplot as plt\n",
    "import pandas as pd\n",
    "import seaborn as sns\n",
    "\n",
    "from analytics.app.data.load import list_pipelines\n",
    "from analytics.app.data.transform import (\n",
    "    df_aggregate_eval_metric,\n",
    "    dfs_models_and_evals,\n",
    "    logs_dataframe,\n",
    "    patch_yearbook_time,\n",
    ")\n",
    "\n",
    "%load_ext autoreload\n",
    "%autoreload 2"
   ]
  },
  {
   "cell_type": "code",
   "execution_count": null,
   "metadata": {},
   "outputs": [],
   "source": [
    "# INPUTS\n",
    "\n",
    "pipelines_dir = Path(\"/Users/robinholzinger/robin/dev/eth/modyn-sigmod-data/yearbook/data_selection_50%/logs_agg_patch\")\n",
    "output_dir = Path(\"/Users/robinholzinger/robin/dev/eth/modyn-2/.analytics.log/.data/_plots\")\n",
    "assert pipelines_dir.exists()\n",
    "assert output_dir.exists()"
   ]
  },
  {
   "cell_type": "code",
   "execution_count": null,
   "metadata": {},
   "outputs": [],
   "source": [
    "pipelines = list_pipelines(pipelines_dir)\n",
    "max_pipeline_id = max(pipelines.keys())\n",
    "pipelines"
   ]
  },
  {
   "cell_type": "code",
   "execution_count": null,
   "metadata": {},
   "outputs": [],
   "source": [
    "from analytics.app.data.load import load_pipeline_logs\n",
    "\n",
    "pipeline_logs = {p_id: load_pipeline_logs(p_id, pipelines_dir) for (p_id, (_, p_path)) in pipelines.items()}"
   ]
  },
  {
   "cell_type": "code",
   "execution_count": null,
   "metadata": {},
   "outputs": [],
   "source": [
    "type(pipeline_logs[32])"
   ]
  },
  {
   "cell_type": "code",
   "execution_count": null,
   "metadata": {},
   "outputs": [],
   "source": [
    "def map_pipeline_names(pipeline_ref: str) -> str:\n",
    "    stripped = re.sub(\n",
    "        \"_nosched.*\",\n",
    "        \"\",\n",
    "        (pipeline_ref.removeprefix(\"yearbook_yearbooknet_\").removeprefix(\"cglm_\")),\n",
    "    )\n",
    "    return {\n",
    "        \"full\": \"Full\",\n",
    "        \"rs2wo\": \"RS2 (w/o)\",\n",
    "        \"grad_bts\": \"DLIS\",\n",
    "        \"margin_bts\": \"Margin\",\n",
    "        \"lc_bts\": \"Least conf.\",\n",
    "        \"entropy_bts\": \"Entropy\",\n",
    "        \"rs2w\": \"RS2\",\n",
    "        \"classb\": \"Class-Bal.\",\n",
    "        \"uniform\": \"Uniform\",\n",
    "        \"loss_bts\": \"Loss\",\n",
    "    }.get(stripped, stripped) + \" \""
   ]
  },
  {
   "cell_type": "code",
   "execution_count": null,
   "metadata": {},
   "outputs": [],
   "source": [
    "pipeline_ids = [p_id for p_id, (p, _) in pipelines.items()]\n",
    "composite_model_variant = \"currently_trained_model\"  # currently_trained_model\n",
    "patch_yearbook = True\n",
    "dataset_id = \"yearbook_test\"\n",
    "eval_handler = \"slidingmatrix\"\n",
    "metric = \"Accuracy\"\n",
    "\n",
    "pipelines = {\n",
    "    int(k): (map_pipeline_names(v[0]), v[1])\n",
    "    for k, v in pipelines.items()\n",
    "    if not (v[0].endswith(\"_r125\") or v[0].endswith(\"_r250\"))\n",
    "}\n",
    "\n",
    "[(p_id, pname) for p_id, (pname, _) in pipelines.items() if p_id in pipeline_ids]"
   ]
  },
  {
   "cell_type": "markdown",
   "metadata": {},
   "source": [
    "# Wrangle data"
   ]
  },
  {
   "cell_type": "code",
   "execution_count": null,
   "metadata": {},
   "outputs": [],
   "source": [
    "list_df_eval_single: list[pd.DataFrame] = []\n",
    "\n",
    "for pipeline_id in pipeline_ids:\n",
    "    df_all = logs_dataframe(pipeline_logs[pipeline_id], pipelines[pipeline_id][0])\n",
    "\n",
    "    _, _, df_eval_single = dfs_models_and_evals(\n",
    "        pipeline_logs[pipeline_id], df_all[\"sample_time\"].max(), pipelines[pipeline_id][0]\n",
    "    )\n",
    "    list_df_eval_single.append(df_eval_single)\n",
    "\n",
    "df_adjusted = pd.concat(list_df_eval_single)\n",
    "df_adjusted"
   ]
  },
  {
   "cell_type": "code",
   "execution_count": null,
   "metadata": {},
   "outputs": [],
   "source": [
    "df_adjusted = df_adjusted[\n",
    "    (df_adjusted[\"dataset_id\"] == dataset_id)\n",
    "    & (df_adjusted[\"eval_handler\"] == eval_handler)\n",
    "    & (df_adjusted[\"metric\"] == metric)\n",
    "]\n",
    "\n",
    "# in percent (0-100)\n",
    "df_adjusted[\"value\"] = df_adjusted[\"value\"] * 100\n",
    "df_adjusted"
   ]
  },
  {
   "cell_type": "code",
   "execution_count": null,
   "metadata": {},
   "outputs": [],
   "source": [
    "if patch_yearbook:\n",
    "    for column in [\"interval_start\", \"interval_center\", \"interval_end\"]:\n",
    "        patch_yearbook_time(df_adjusted, column)\n",
    "    patch_yearbook_time(df_all, \"sample_time\")"
   ]
  },
  {
   "cell_type": "code",
   "execution_count": null,
   "metadata": {},
   "outputs": [],
   "source": [
    "df_adjusted = df_adjusted.sort_values(by=[\"interval_center\"])"
   ]
  },
  {
   "cell_type": "code",
   "execution_count": null,
   "metadata": {},
   "outputs": [],
   "source": [
    "# Reduce to composite models\n",
    "df_adjusted = df_adjusted[df_adjusted[composite_model_variant]]\n",
    "df_adjusted[composite_model_variant].unique()"
   ]
  },
  {
   "cell_type": "markdown",
   "metadata": {},
   "source": [
    "# Dump Data backup"
   ]
  },
  {
   "cell_type": "markdown",
   "metadata": {},
   "source": [
    "# Create Plot"
   ]
  },
  {
   "cell_type": "code",
   "execution_count": null,
   "metadata": {},
   "outputs": [],
   "source": [
    "# reduce evaluation interval to interval where all policies have evaluations\n",
    "min_active_eval_center_per_pipeline = (\n",
    "    df_adjusted[df_adjusted[composite_model_variant]].groupby(\"pipeline_ref\")[\"interval_center\"].min()\n",
    ")\n",
    "maximum_min = min_active_eval_center_per_pipeline.max()\n",
    "print(maximum_min, min_active_eval_center_per_pipeline)\n",
    "\n",
    "df_adjusted = df_adjusted[df_adjusted[\"interval_center\"] >= maximum_min]\n",
    "df_adjusted[\"interval_center\"].unique()"
   ]
  },
  {
   "cell_type": "code",
   "execution_count": null,
   "metadata": {},
   "outputs": [],
   "source": [
    "df_adjusted[\"interval_center\"] = df_adjusted[\"interval_center\"].astype(str).str.split(\"-\").str[0]"
   ]
  },
  {
   "cell_type": "code",
   "execution_count": null,
   "metadata": {},
   "outputs": [],
   "source": [
    "df_adjusted[df_adjusted[\"pipeline_ref\"].str.contains(\"Full\")]"
   ]
  },
  {
   "cell_type": "code",
   "execution_count": null,
   "metadata": {},
   "outputs": [],
   "source": [
    "# Aggregate metrics to a scalar value per pipeline\n",
    "mean_accuracies = df_aggregate_eval_metric(\n",
    "    df_adjusted,\n",
    "    group_by=[\"pipeline_ref\", \"metric\"],\n",
    "    in_col=\"value\",\n",
    "    out_col=\"metric_value\",\n",
    "    aggregate_func=\"mean\",\n",
    ")\n",
    "\n",
    "mean_accuracies.sort_values(by=[\"metric_value\"])"
   ]
  },
  {
   "cell_type": "code",
   "execution_count": null,
   "metadata": {},
   "outputs": [],
   "source": [
    "mean_accuracies_candidate = mean_accuracies[~mean_accuracies[\"pipeline_ref\"].str.contains(\"Full\")]\n",
    "mean_accuracy_ref = mean_accuracies[mean_accuracies[\"pipeline_ref\"].str.contains(\"Full\")]"
   ]
  },
  {
   "cell_type": "code",
   "execution_count": null,
   "metadata": {},
   "outputs": [],
   "source": [
    "# Create the heatmap\n",
    "from analytics.plotting.common.common import INIT_PLOT\n",
    "\n",
    "INIT_PLOT()\n",
    "# sns.set_theme(style=\"ticks\")\n",
    "# plt.rcParams['svg.fonttype'] = 'none'\n",
    "sns.set_style(\"whitegrid\")\n",
    "\n",
    "FONTSIZE = 20\n",
    "DOUBLE_FIG_WIDTH = 10\n",
    "DOUBLE_FIG_HEIGHT = 3.5\n",
    "DOUBLE_FIG_SIZE = (DOUBLE_FIG_WIDTH, 1.1 * DOUBLE_FIG_HEIGHT)\n",
    "\n",
    "fig = plt.figure(\n",
    "    edgecolor=\"black\",\n",
    "    frameon=True,\n",
    "    figsize=DOUBLE_FIG_SIZE,\n",
    "    dpi=300,\n",
    ")\n",
    "\n",
    "palette = sns.color_palette(\"RdBu_r\", 10)\n",
    "palette = [palette[1], palette[1]]\n",
    "ax = sns.stripplot(\n",
    "    mean_accuracies_candidate,\n",
    "    x=\"pipeline_ref\",\n",
    "    order=mean_accuracies_candidate.sort_values(by=\"metric_value\")[\"pipeline_ref\"],\n",
    "    y=\"metric_value\",\n",
    "    hue=\"pipeline_ref\",\n",
    "    hue_order=mean_accuracies_candidate.sort_values(by=\"metric_value\")[\"pipeline_ref\"],\n",
    "    palette=palette,\n",
    "    s=15,\n",
    "    marker=\"X\",\n",
    "    legend=False,\n",
    ")\n",
    "ax.set(ylim=(82, 93))\n",
    "\n",
    "# draw horizontal line for \"Full\" model\n",
    "plt.axhline(\n",
    "    y=mean_accuracy_ref[\"metric_value\"].values[0],\n",
    "    color=\"dimgrey\",\n",
    "    linestyle=\"--\",\n",
    "    linewidth=3,\n",
    ")\n",
    "\n",
    "plt.text(s=\"Full data training\", x=-0.2, y=mean_accuracy_ref[\"metric_value\"].values[0] - 2, color=\"dimgrey\")\n",
    "\n",
    "\n",
    "# Set x-axis\n",
    "plt.xlabel(\"\")\n",
    "plt.xticks(rotation=45)\n",
    "\n",
    "# Set y-axis ticks to be equally spaced\n",
    "plt.ylabel(\"Mean Accuracy %\", labelpad=15)\n",
    "plt.yticks(\n",
    "    ticks=[x for x in range(82, 92 + 1, 3)],\n",
    "    labels=[x for x in range(82, 92 + 1, 3)],\n",
    "    rotation=0,\n",
    ")\n",
    "\n",
    "# Display the plot\n",
    "plt.tight_layout()\n",
    "plt.show()"
   ]
  },
  {
   "cell_type": "markdown",
   "metadata": {},
   "source": [
    "# Save Plot as svg"
   ]
  },
  {
   "cell_type": "code",
   "execution_count": null,
   "metadata": {},
   "outputs": [],
   "source": [
    "for img_type in [\"png\", \"svg\"]:\n",
    "    img_path = output_dir / f\"scatter_selection_yb.{img_type}\"\n",
    "    fig.savefig(img_path, bbox_inches=\"tight\", transparent=True)"
   ]
  }
 ],
 "metadata": {
  "kernelspec": {
   "display_name": "Python 3",
   "language": "python",
   "name": "python3"
  },
  "language_info": {
   "codemirror_mode": {
    "name": "ipython",
    "version": 3
   },
   "file_extension": ".py",
   "mimetype": "text/x-python",
   "name": "python",
   "nbconvert_exporter": "python",
   "pygments_lexer": "ipython3",
   "version": "3.12.3"
  }
 },
 "nbformat": 4,
 "nbformat_minor": 2
}
