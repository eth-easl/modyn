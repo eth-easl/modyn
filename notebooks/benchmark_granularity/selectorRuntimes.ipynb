{
 "cells": [
  {
   "cell_type": "markdown",
   "source": [
    "# Selector runtime: stacked& grouped bar chart"
   ],
   "metadata": {
    "collapsed": false
   }
  },
  {
   "cell_type": "markdown",
   "source": [
    "Expected output:\n",
    "![selector_time](../demo_out/selector_timefmow.png)\n"
   ],
   "metadata": {
    "collapsed": false
   }
  },
  {
   "cell_type": "code",
   "execution_count": null,
   "outputs": [],
   "source": [
    "DATASET = \"fmow\"\n",
    "PATH3_SE = f\"../clean_data/sgs3/growing/{DATASET}/new_logs_selector_backup\"\n",
    "PATH4_SE = f\"../clean_data/sgs4/growing/{DATASET}/new_logs_selector_backup\"\n",
    "\n",
    "TITLE_COLOR = \"#FC6A49\"\n",
    "if DATASET == \"fmow\":\n",
    "    TITLE_COLOR = \"#6F9074\"\n",
    "elif DATASET == \"huffpost\":\n",
    "    TITLE_COLOR = \"#745474\"\n",
    "\n",
    "OUTPUT_FOLDER = \"out_clean\"\n"
   ],
   "metadata": {
    "collapsed": false
   }
  },
  {
   "cell_type": "code",
   "execution_count": null,
   "outputs": [],
   "source": [
    "import pandas as pd\n",
    "from chart_style_mpl import set_size\n",
    "import seaborn as sns\n",
    "import matplotlib as mpl\n",
    "import matplotlib.patches as mpatches\n",
    "import matplotlib.pyplot as plt\n",
    "from matplotlib.patches import Patch\n",
    "import pylab\n",
    "import json\n",
    "import scienceplots"
   ],
   "metadata": {
    "collapsed": false
   }
  },
  {
   "cell_type": "raw",
   "source": [
    "Expected Log format:\n",
    "List of records. Each record has keys \"experiment\", \"SQL query\", \"Store samples\", \"selector\". Experiments is used as index in the dataframe. See \"groups\" variable to see the expected format for experiment names. \n"
   ],
   "metadata": {
    "collapsed": false
   }
  },
  {
   "cell_type": "code",
   "execution_count": null,
   "outputs": [],
   "source": [
    "CONFIG_PARSING_FILE = \"../config_histograms/config_selector.json\"\n",
    "FILE_NAME = \"/path/to/your/log/file/read/below\"\n",
    "file_content = json.load(open(FILE_NAME, \"r\"))\n",
    "merged_df = pd.DataFrame(file_content)"
   ],
   "metadata": {
    "collapsed": false
   }
  },
  {
   "cell_type": "code",
   "execution_count": null,
   "outputs": [],
   "source": [
    "groups = {\n",
    "    \"D_25_2\": [\"GradNorm_25pc_2ep_BTS\", \"Margin_25pc_2ep_BTS\", \"SubmodularFL_25pc_2ep_BTS\", \"Kcenter_25pc_2ep_BTS\", \"GradMatch_25pc_2ep_BTS\"],\n",
    "    \"D_25_4\": [\"GradNorm_25pc_4ep_BTS\", \"Margin_25pc_4ep_BTS\", \"SubmodularFL_25pc_4ep_BTS\", \"Kcenter_25pc_4ep_BTS\", \"GradMatch_25pc_4ep_BTS\"],\n",
    "    \"P_25_1\": [\"random_25pc_1ep\", \"randomNoRep_25pc_1ep\", \"labelBalanced_25pc_1ep\", \"triggerBalanced_25pc_1ep\"],\n",
    "    \"P_50_1\": [\"random_50pc_1ep\",\"randomNoRep_50pc_1ep\", \"labelBalanced_50pc_1ep\", \"triggerBalanced_50pc_1ep\",],\n",
    "    \"P_25_2\": [\"random_25pc_2ep\",\"randomNoRep_25pc_2ep\", \"labelBalanced_25pc_2ep\", \"triggerBalanced_25pc_2ep\"],\n",
    "    \"P_75_1\": [\"random_75pc_1ep\", \"randomNoRep_75pc_1ep\", \"labelBalanced_75pc_1ep\", \"triggerBalanced_75pc_1ep\"],\n",
    "    \"P_25_4\": [   \"random_25pc_4ep\", \"randomNoRep_25pc_4ep\", \"labelBalanced_25pc_4ep\", \"triggerBalanced_25pc_4ep\"],\n",
    "    \"P_50_2\": [\"random_50pc_2ep\", \"randomNoRep_50pc_2ep\", \"labelBalanced_50pc_2ep\", \"triggerBalanced_50pc_2ep\",],\n",
    "    \"A\": [\"all_data\"],\n",
    "    \"A+\": [\"all_data_2ep\", \"all_data_4ep\"]\n",
    "}\n",
    "\n",
    "labels = []\n",
    "for experiment in merged_df.index.to_list():\n",
    "    found = False\n",
    "    for key in groups:\n",
    "        if experiment in groups[key]:\n",
    "            labels.append(key)\n",
    "            found = True\n",
    "            break\n",
    "    if not found:\n",
    "        labels.append(\"Extra\")\n",
    "merged_df[\"group\"] = labels"
   ],
   "metadata": {
    "collapsed": false
   }
  },
  {
   "cell_type": "code",
   "execution_count": null,
   "outputs": [],
   "source": [
    "short_names = []\n",
    "for el in merged_df.index.tolist():\n",
    "    if \"all_data\" not in el:\n",
    "        spl = el.split(\"_\")\n",
    "        short_name = f\"{spl[0]} {spl[1].split('pc')[0]}\\%, {spl[2].split('ep')[0]}e\"\n",
    "    else:\n",
    "        short_name = {\"all_data\" : \"all 1e\",\"all_data_2ep\": \"all 2e\",\"all_data_4ep\": \"all 4e\",\"all_data_4ep_tail5\": \"all 4e t5\"}[el]\n",
    "    short_names.append(short_name)\n",
    "merged_df[\"short_name\"] = short_names"
   ],
   "metadata": {
    "collapsed": false
   }
  },
  {
   "cell_type": "markdown",
   "source": [
    "## Selector time for presampling strategies"
   ],
   "metadata": {
    "collapsed": false
   }
  },
  {
   "cell_type": "code",
   "execution_count": null,
   "outputs": [],
   "source": [
    "chart_df = merged_df[(merged_df.group.str.startswith(\"P\")) | (merged_df.group.str.startswith(\"A\"))].copy()\n",
    "\n",
    "presampling_strategy = []\n",
    "presampling_ratio = []\n",
    "training_epochs = []\n",
    "for index, row in chart_df.iterrows():\n",
    "    if \"all\" in index:\n",
    "        presampling_strategy.append(\"No presampling\")\n",
    "        presampling_ratio.append(100)\n",
    "        training_epochs.append(1)\n",
    "    else:\n",
    "        presampling_strategy.append(index.split(\"_\")[0])\n",
    "        presampling_ratio.append(int(index.split(\"_\")[1].split(\"pc\")[0]))\n",
    "        training_epochs.append(int(index.split(\"_\")[2].split(\"ep\")[0]))\n",
    "chart_df[\"presampling_strategy\"] = presampling_strategy\n",
    "chart_df[\"presampling_ratio\"] = presampling_ratio\n",
    "chart_df[\"training_epochs\"] = training_epochs"
   ],
   "metadata": {
    "collapsed": false
   }
  },
  {
   "cell_type": "code",
   "execution_count": null,
   "outputs": [],
   "source": [
    "chart_df = chart_df[[\"presampling_strategy\", \"training_epochs\", \"presampling_ratio\", \"SQL query\", \"Store samples\", \"selector\"]].groupby(by=[\"presampling_strategy\", \"presampling_ratio\"]).mean()\n",
    "chart_df = pd.DataFrame(chart_df.to_records())"
   ],
   "metadata": {
    "collapsed": false
   }
  },
  {
   "cell_type": "code",
   "execution_count": null,
   "outputs": [],
   "source": [
    "chart_df[\"sum\"] = chart_df[\"SQL query\"] + chart_df[\"Store samples\"]"
   ],
   "metadata": {
    "collapsed": false
   }
  },
  {
   "cell_type": "code",
   "execution_count": null,
   "outputs": [],
   "source": [
    "fig, ax = plt.subplots()\n",
    "a = sns.barplot(data=chart_df, x='presampling_strategy', y='sum', hue='presampling_ratio',  hatch=r\"||||\", edgecolor=\"black\", linewidth = .1, palette=\"tab10\")\n",
    "a = sns.barplot(data=chart_df, x='presampling_strategy', y='SQL query', hue='presampling_ratio', hatch = r\"----\", edgecolor=\"white\", linewidth = .1, palette=\"tab10\")\n",
    "base = [h.get_height() for h in a.patches]\n",
    "\n",
    "plt.style.use(['science'])\n",
    "plt.rcParams.update({\n",
    "    \"text.usetex\": True,\n",
    "    \"font.family\": \"Helvetica\"\n",
    "})\n",
    "tex_fonts = {\n",
    "    # Use LaTeX to write all text\n",
    "    \"text.usetex\": True,\n",
    "    \"font.family\": \"Helvetica\",\n",
    "    # Use 10pt font in plots, to match 10pt font in document\n",
    "    \"axes.labelsize\": 8,\n",
    "    \"font.size\": 8,\n",
    "    # Make the legend/label fonts a little smaller\n",
    "    \"legend.fontsize\": 10,\n",
    "    \"xtick.labelsize\": 8,\n",
    "    \"ytick.labelsize\": 8\n",
    "}\n",
    "\n",
    "ax.get_legend().remove()\n",
    "plt.rcParams['figure.figsize'] = set_size(fraction=1.5, subplots=(1.3,3))\n",
    "plt.rcParams.update(tex_fonts)\n",
    "plt.xlabel(\"\")\n",
    "plt.ylabel(\"Total Selector Time\")\n",
    "for spine in [\"bottom\", \"top\", \"right\", \"left\"]:\n",
    "    ax.spines[spine].set_color(TITLE_COLOR)\n",
    "ax.set_ylim([0, 25])\n",
    "plt.savefig(f\"{OUTPUT_FOLDER}/selector_time{DATASET}.pdf\", format='pdf', bbox_inches='tight')\n"
   ],
   "metadata": {
    "collapsed": false
   }
  },
  {
   "cell_type": "raw",
   "source": [
    "The cell below is used to create only the legend. Moving the legend out of the plots improves readability and reduces redundancy when the same graph is repeated several times (like in my thesis, where this graph is repeated for each dataset)"
   ],
   "metadata": {
    "collapsed": false
   }
  },
  {
   "cell_type": "code",
   "execution_count": null,
   "outputs": [],
   "source": [
    "blue = mpl.colormaps[\"tab10\"](0)\n",
    "red = mpl.colormaps[\"tab10\"](3)\n",
    "fig, ax = plt.subplots()\n",
    "ax.axis(False)\n",
    "white_patch = mpatches.Patch(color='white', alpha = 0)\n",
    "\n",
    "blue = Patch(facecolor=blue,\n",
    "      label='Color Patch')\n",
    "orange = Patch(facecolor=mpl.colormaps[\"tab10\"](1),\n",
    "            label='Color Patch')\n",
    "green = Patch(facecolor=mpl.colormaps[\"tab10\"](2),\n",
    "               label='Color Patch')\n",
    "red = Patch(facecolor=red,\n",
    "             label='Color Patch')\n",
    "\n",
    "a = Patch(facecolor=\"white\",\n",
    "            label='Color Patch', hatch = \"-------\", linewidth=0.1, edgecolor = \"black\")\n",
    "\n",
    "b = Patch(facecolor=\"black\",\n",
    "          label='Color Patch', hatch = \"|||||||\", linewidth=0.01, edgecolor = \"white\")\n",
    "\n",
    "legend = pylab.figlegend([white_patch, white_patch, blue, a, orange, b, green, white_patch, red] , [r\"\\textbf{Grouping}\", r\"\\textbf{Stacking}\", \"25\\% presampling\", \"SQL query\", \"50\\% presampling\", \"Store samples\", \"75\\% presampling\", \"\", \"No presampling\"] , loc=\"center\", bbox_to_anchor=(0.5, 0.5), ncol = 5, frameon=False)\n",
    "fig.canvas.draw()\n",
    "fig.savefig(f\"{OUTPUT_FOLDER}/growing_legend_selector.pdf\", format='pdf', bbox_inches=legend.get_window_extent().transformed(fig.dpi_scale_trans.inverted()), transparent=True)"
   ],
   "metadata": {
    "collapsed": false
   }
  },
  {
   "cell_type": "code",
   "execution_count": null,
   "outputs": [],
   "source": [],
   "metadata": {
    "collapsed": false
   }
  }
 ],
 "metadata": {
  "kernelspec": {
   "display_name": "Python 3",
   "language": "python",
   "name": "python3"
  },
  "language_info": {
   "codemirror_mode": {
    "name": "ipython",
    "version": 2
   },
   "file_extension": ".py",
   "mimetype": "text/x-python",
   "name": "python",
   "nbconvert_exporter": "python",
   "pygments_lexer": "ipython2",
   "version": "2.7.6"
  }
 },
 "nbformat": 4,
 "nbformat_minor": 0
}
