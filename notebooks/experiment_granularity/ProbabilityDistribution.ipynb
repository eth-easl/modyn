{
 "cells": [
  {
   "cell_type": "markdown",
   "source": [
    "# Probability distribution"
   ],
   "metadata": {
    "collapsed": false
   }
  },
  {
   "cell_type": "markdown",
   "source": [
    "Dowsampling strategies in some way (loss, gradient norm) construct a probability distribution over the available dataset. The aim of this notebook is to understand how the importance of the samples correlates with their temporal location. The entire probability mass of samples belonging to year X is grouped in the same bucket and then visualised."
   ],
   "metadata": {
    "collapsed": false
   }
  },
  {
   "cell_type": "code",
   "execution_count": null,
   "outputs": [],
   "source": [
    "from lxml import html\n",
    "import plotly.graph_objects as go\n",
    "import json\n",
    "import os"
   ],
   "metadata": {
    "collapsed": false
   }
  },
  {
   "cell_type": "code",
   "execution_count": null,
   "outputs": [],
   "source": [
    "OUTPUT_FILENAME = \"probdistrcomparison.html\"\n",
    "LOSS_FILE = \"loss.json\"\n",
    "GRADNORM_FILE = \"gradnorm.json\"\n",
    "LAST_AVAILABLE_YEAR = 1989"
   ],
   "metadata": {
    "collapsed": false
   }
  },
  {
   "cell_type": "code",
   "execution_count": null,
   "outputs": [],
   "source": [
    "format_string_title = \"<span style='font-family:  \\\"Hanken Grotesk\\\", Helvetica; color: #44546c; font-weight: 800; font-size: 45'>\"\n",
    "format_string_title_red = \"<span style='font-family:  \\\"Hanken Grotesk\\\", Helvetica; color: #fb6a4a; font-weight: 800; font-size: 45'>\"\n",
    "format_string = \"<span style='font-family:  \\\"Hanken Grotesk\\\", Helvetica; color: #44546c; font-weight:  300; font-size: 20'>\""
   ],
   "metadata": {
    "collapsed": false
   }
  },
  {
   "cell_type": "markdown",
   "source": [
    "## Visualization"
   ],
   "metadata": {
    "collapsed": false
   }
  },
  {
   "cell_type": "markdown",
   "source": [
    "Expected format: 2-level dict (stored as a json file). data[trigger_year][data_year] contains the total probability mass of datapoints belonging to \"data_year\" year when evaluated in \"trigger_year\" selection round. The probability should be normalized for each trigger_year, hence sum(data[trigger_year][:trigger_year + 1]) = 1 for each trigger_year \n",
    "\n",
    "See demo_out/probdistrcomparison.html for the interactive version and below for the static matplotlib exported\n",
    "\n",
    "![mpl](../demo_out/probability_mass_filledTR.png)"
   ],
   "metadata": {
    "collapsed": false
   }
  },
  {
   "cell_type": "code",
   "execution_count": null,
   "outputs": [],
   "source": [
    "def get_chart(x_values, y_values, name, color):\n",
    "\n",
    "    trace1_grad = go.Scatter(x=x_values, y=y_values, mode='lines', line=dict(color=color, width=5.5), name = name,  showlegend = True)\n",
    "    return trace1_grad"
   ],
   "metadata": {
    "collapsed": false
   }
  },
  {
   "cell_type": "code",
   "execution_count": null,
   "outputs": [],
   "source": [
    "def get_slider_chart(gradnorm, loss):\n",
    "\n",
    "    layout = go.Layout(xaxis=dict(title=f'{format_string}Time'), yaxis=dict(title=f'{format_string}Aggregated probability'), title=dict(text=f\"{format_string_title}Probability distribution over time\",xanchor= 'center',x=0.5, font=dict(color=\"#44546c\", size = 35,family='helvetica' )), plot_bgcolor=\"#f0f0f0\", paper_bgcolor='#f0f0f0')\n",
    "    fig = go.Figure(layout = layout)\n",
    "\n",
    "    # Add traces, one for each slider step\n",
    "    for model_year in range(1930,LAST_AVAILABLE_YEAR):\n",
    "        model_year = f\"{model_year}\"\n",
    "        #gradnorm\n",
    "        x_values = [int(key) for key in gradnorm[model_year]]\n",
    "        y_values = [gradnorm[model_year][key] for key in gradnorm[model_year]]\n",
    "        trace = get_chart(x_values, y_values, \"gradnorm\", \"#FF595E\")\n",
    "        fig.add_trace(trace)\n",
    "\n",
    "        #loss\n",
    "        x_values = [int(key) for key in loss[model_year]]\n",
    "        y_values = [loss[model_year][key] for key in loss[model_year]]\n",
    "        trace = get_chart(x_values, y_values, \"loss\", \"#E0CA3C\")\n",
    "        fig.add_trace(trace)\n",
    "\n",
    "\n",
    "        vertical_line = go.Scatter(x=[model_year, model_year], y=[0, 1], mode='lines', line=dict(color='LightGray', dash=\"dot\", width=4), showlegend=False)\n",
    "        fig.add_trace(vertical_line)\n",
    "\n",
    "\n",
    "    for i in range(len(fig.data)):\n",
    "        fig.data[i].visible = False\n",
    "    for i in range(4):\n",
    "        fig.data[i].visible = True\n",
    "\n",
    "    # Create and add slider\n",
    "    steps = []\n",
    "    for i in range(len(fig.data)//3):\n",
    "        step = dict(\n",
    "            method=\"update\",\n",
    "            args=[{\"visible\": [False] * len(fig.data)},]\n",
    "        )\n",
    "        step[\"args\"][0][\"visible\"][3*i] = True  # Toggle i'th trace to \"visible\"\n",
    "        step[\"args\"][0][\"visible\"][3*i+1] = True\n",
    "        step[\"args\"][0][\"visible\"][3*i+2] = True  # Toggle i'th trace to \"visible\"\n",
    "        steps.append(step)\n",
    "\n",
    "    sliders = [dict(\n",
    "        active=0,\n",
    "        currentvalue={\"prefix\": \"Years from beginning: \"},\n",
    "        pad={\"t\": 50},\n",
    "        steps=steps,\n",
    "        bgcolor=\"#44546c\",\n",
    "        tickcolor=\"#44546c\",\n",
    "        font=dict(size=8, color='#44546c', family = \"helvetica\")\n",
    "    )]\n",
    "\n",
    "\n",
    "    fig.update_layout(\n",
    "        sliders=sliders\n",
    "    )\n",
    "    fig.update_yaxes(showline=True, linewidth=2, linecolor='#44546c', range=[0,0.2], showgrid=True, gridwidth=0.5, gridcolor='LightGray', title_font=dict(size=18, color='#44546c', family = \"helvetica\"), tickangle=0, tickfont=dict(family='helvetica', color='#44546c', size=14))\n",
    "    fig.update_xaxes(showline=True, linewidth=2, linecolor='#44546c', range=[1930,1989], showgrid=True, gridwidth=0.5, gridcolor='LightGray', title_font=dict(size=18, color='#44546c', family = \"helvetica\"), tickangle=0, tickfont=dict(family='helvetica', color='#44546c', size=14))\n",
    "\n",
    "\n",
    "    fig.update_layout(legend=dict(yanchor=\"bottom\",y=1.0,xanchor=\"right\",itemwidth=70, x=0.99, orientation = \"h\",font=dict(size=18, color='#44546c', family = \"helvetica\")))\n",
    "    return fig"
   ],
   "metadata": {
    "collapsed": false
   }
  },
  {
   "cell_type": "code",
   "execution_count": null,
   "outputs": [],
   "source": [
    "def style_html():\n",
    "\n",
    "    with open(OUTPUT_FILENAME, \"r\") as f:\n",
    "        html_file = f.read()\n",
    "        tree = html.fromstring(html_file)\n",
    "\n",
    "    # Create a new root element to hold the merged HTML content\n",
    "    root = html.Element(\"html\")\n",
    "    root.append(html.fromstring(\"\"\"<style>\n",
    "  @import url('https://fonts.googleapis.com/css2?family=Hanken+Grotesk:ital,wght@0,100;0,200;0,300;0,400;0,500;0,600;0,700;0,800;0,900;1,100;1,200;1,300;1,400;1,500;1,600;1,700;1,800;1,900&display=swap');\n",
    "</style>\"\"\"))\n",
    "\n",
    "    body = tree.xpath('//body')[0]\n",
    "    body.set(\"style\", \"background-color: #44546c;\")\n",
    "    root.append(body)\n",
    "\n",
    "    # Write the merged HTML to a file\n",
    "    with open(OUTPUT_FILENAME, 'wb') as f:\n",
    "        f.write(html.tostring(root))"
   ],
   "metadata": {
    "collapsed": false
   }
  },
  {
   "cell_type": "code",
   "execution_count": null,
   "outputs": [],
   "source": [
    "with open(GRADNORM_FILE, \"r\") as f:\n",
    "    gradnorm = json.load(f)\n",
    "with open(LOSS_FILE, \"r\") as f:\n",
    "    loss = json.load(f)\n",
    "fig = get_slider_chart(gradnorm, loss)\n",
    "fig.write_html(OUTPUT_FILENAME, include_plotlyjs=\"cdn\")\n",
    "style_html()"
   ],
   "metadata": {
    "collapsed": false
   }
  },
  {
   "cell_type": "markdown",
   "source": [
    "# MPL version"
   ],
   "metadata": {
    "collapsed": false
   }
  },
  {
   "cell_type": "code",
   "execution_count": 8,
   "outputs": [],
   "source": [
    "sk_g = {int(key) - 1930 :gradnorm[\"1975\"][key] for key in gradnorm[\"1975\"]}\n",
    "fl_g = {int(key) - 1930:gradnorm[\"1988\"][key] for key in gradnorm[\"1988\"]}\n",
    "\n",
    "sk_l = {int(key) - 1930:loss[\"1975\"][key] for key in loss[\"1975\"]}\n",
    "fl_l = {int(key)- 1930:loss[\"1988\"][key] for key in loss[\"1988\"]}"
   ],
   "metadata": {
    "collapsed": false,
    "ExecuteTime": {
     "end_time": "2023-10-09T15:36:20.737609Z",
     "start_time": "2023-10-09T15:36:20.728768Z"
    }
   }
  },
  {
   "cell_type": "code",
   "execution_count": 11,
   "outputs": [
    {
     "data": {
      "text/plain": "<Figure size 791.615x284.622 with 2 Axes>",
      "image/png": "[encoded data removed]"
     },
     "metadata": {},
     "output_type": "display_data"
    }
   ],
   "source": [
    "import matplotlib.pyplot as plt\n",
    "import scienceplots\n",
    "plt.style.use(['science'])\n",
    "tex_fonts = {\n",
    "    \"text.usetex\": True,\n",
    "    \"font.family\": \"Helvetica\",\n",
    "    \"axes.labelsize\": 10,\n",
    "    \"font.size\": 10,\n",
    "    \"legend.fontsize\": 8,\n",
    "    \"xtick.labelsize\": 8,\n",
    "    \"ytick.labelsize\": 8\n",
    "}\n",
    "plt.rcParams.update(tex_fonts)\n",
    "size = (7.916147779161476, 2.4462241937443947)\n",
    "size = (size[0], size[1] + 0.4)\n",
    "fig, axes = plt.subplots(1, 2, figsize=size, sharey=\"row\", sharex = \"row\")\n",
    "\n",
    "subplot_position = 1\n",
    "axes[subplot_position].plot(fl_g.keys(), fl_g.values(), label=\"Gradnorm\", color=\"#FC6A49\")\n",
    "axes[subplot_position].plot(fl_l.keys(), fl_l.values(), label=\"Loss\", color=\"#6F9074\")\n",
    "axes[subplot_position].set_xlabel(\"Data trigger\")\n",
    "#axes[subplot_position].set_ylabel(\"Probability mass\")\n",
    "axes[subplot_position].fill_between(fl_g.keys(), fl_g.values(), alpha = 0.3, color = \"#FC6A49\")\n",
    "axes[subplot_position].fill_between(fl_l.keys(), fl_l.values(), alpha = 0.3, color = \"#6F9074\")\n",
    "title = \"\\\\textbf{\" + \"No distribution shift\" + \"}\"\n",
    "axes[subplot_position].set_title(title)\n",
    "axes[subplot_position].legend()\n",
    "\n",
    "subplot_position = 0\n",
    "axes[subplot_position].plot(sk_g.keys(), sk_g.values(), label=\"Gradnorm\", color=\"#FC6A49\")\n",
    "axes[subplot_position].plot(sk_l.keys(), sk_l.values(), label=\"Loss\", color=\"#6F9074\")\n",
    "axes[subplot_position].set_xlabel(\"Data trigger\")\n",
    "axes[subplot_position].set_ylabel(\"Probability mass\")\n",
    "axes[subplot_position].fill_between(sk_g.keys(), sk_g.values(), alpha = 0.3, color = \"#FC6A49\")\n",
    "axes[subplot_position].fill_between(sk_l.keys(), sk_l.values(), alpha = 0.3, color = \"#6F9074\")\n",
    "title = \"\\\\textbf{\" + \"Distribution shift\" + \"}\"\n",
    "axes[subplot_position].set_title(title)\n",
    "axes[subplot_position].legend()\n",
    "#axes[subplot_position].yaxis.set_tick_params(labelbottom=True)\n",
    "\n",
    "#axes[subplot_position].legend( ncol=3, loc='upper center', bbox_to_anchor=(0.5, -0.3), )\n",
    "#fig.suptitle('\\\\textbf{Presampling Strategies}', fontsize=16)\n",
    "\n",
    "plt.tight_layout()\n",
    "#legend.get_lines()[0].set_markersize(15)\n",
    "#\n",
    "import numpy as np\n",
    "\n",
    "axes[1].vlines(58, ymin=0, ymax = 0.16, color=\"#71C1C9\", ls=\"--\")\n",
    "axes[0].vlines(45, ymin=0, ymax = 0.16, color=\"#71C1C9\", ls=\"--\")\n",
    "axes[1].axvspan(58, 82, color='gray', alpha=0.3, label='Semi-transparent Box')\n",
    "axes[0].axvspan(45, 82, color='gray', alpha=0.3, label='Semi-transparent Box')\n",
    "axes[1].set_ylim(0,0.16)\n",
    "axes[0].xaxis.set_ticks(np.arange(0, 82, 10))\n",
    "axes[1].set_xlim(0,82)\n",
    "axes[0].grid()\n",
    "axes[1].grid()\n",
    "plt.savefig(f\"probability_mass_filledTR.pdf\", format='pdf', bbox_inches='tight', transparent=True)"
   ],
   "metadata": {
    "collapsed": false,
    "ExecuteTime": {
     "end_time": "2023-10-09T15:36:42.904288Z",
     "start_time": "2023-10-09T15:36:41.846101Z"
    }
   }
  },
  {
   "cell_type": "code",
   "execution_count": null,
   "outputs": [],
   "source": [],
   "metadata": {
    "collapsed": false
   }
  },
  {
   "cell_type": "code",
   "execution_count": null,
   "outputs": [],
   "source": [],
   "metadata": {
    "collapsed": false
   }
  }
 ],
 "metadata": {
  "kernelspec": {
   "display_name": "Python 3",
   "language": "python",
   "name": "python3"
  },
  "language_info": {
   "codemirror_mode": {
    "name": "ipython",
    "version": 2
   },
   "file_extension": ".py",
   "mimetype": "text/x-python",
   "name": "python",
   "nbconvert_exporter": "python",
   "pygments_lexer": "ipython2",
   "version": "2.7.6"
  }
 },
 "nbformat": 4,
 "nbformat_minor": 0
}
