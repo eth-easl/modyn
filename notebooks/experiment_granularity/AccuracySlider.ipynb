{
 "cells": [
  {
   "cell_type": "markdown",
   "source": [
    "# Performance over time"
   ],
   "metadata": {
    "collapsed": false
   }
  },
  {
   "cell_type": "markdown",
   "source": [
    "This notebook is used to build a slider chart in which you can select the training trigger and analyze the performance of the model for every data year. This notebook requires the accuracy matrix for each model stored in a pickle format.\n",
    "\n",
    "See demo_out/demo_yearbook.html for an example output"
   ],
   "metadata": {
    "collapsed": false
   }
  },
  {
   "cell_type": "code",
   "execution_count": 1,
   "outputs": [],
   "source": [
    "import os\n",
    "import pickle\n",
    "import plotly.graph_objects as go\n",
    "from lxml import html"
   ],
   "metadata": {
    "collapsed": false,
    "ExecuteTime": {
     "end_time": "2023-10-09T15:27:45.066735Z",
     "start_time": "2023-10-09T15:27:45.048810Z"
    }
   }
  },
  {
   "cell_type": "code",
   "execution_count": 2,
   "outputs": [],
   "source": [
    "DATA_FOLDER = \"/your/folder/containing/pickles/of/accuracy/matrices\" \n",
    "OUTPUT_FILE_NAME = \"demo_yearbook.html\""
   ],
   "metadata": {
    "collapsed": false,
    "ExecuteTime": {
     "end_time": "2023-10-09T15:27:45.733726Z",
     "start_time": "2023-10-09T15:27:45.726501Z"
    }
   }
  },
  {
   "cell_type": "code",
   "execution_count": 3,
   "outputs": [],
   "source": [
    "MODYN_BLUE = \"#44546c\"\n",
    "MODYN_WHITE = \"#f0f0f0\"\n",
    "colors = [\"#fb6a4a\", \"#71c1c9\", \"#A50104\", '#6f9074', '#745474', \"#445488\" ,'#ffc05e', \"#ccacca\", \"#ccccaa\", \"#aaccaa\", \"#acacac\", \"#abcdef\", \"#fedcab\"]\n",
    "colors = colors * 3\n",
    "lighter_colors = [\"#f79079\", \"#96dae0\", \"#d93b3d\",\"#8db593\", \"#ad80ad\", \"#6277bd\", \"#ffd085\", \"#ccacca\", \"#ccccaa\", \"#aaccaa\", \"#acacac\", \"#abcdef\", \"#fedcab\"]\n",
    "lighter_colors = lighter_colors * 3\n",
    "format_string_title = \"<span style='font-family: Helvetica; color: #44546c; font-weight: 800; font-size: 45'>\"\n",
    "format_string_title_red = \"<span style='font-family:  Helvetica; color: #fb6a4a; font-weight: 800; font-size: 45'>\"\n",
    "format_string = \"<span style='font-family: Helvetica; color: #44546c; font-weight:  300; font-size: 20'>\""
   ],
   "metadata": {
    "collapsed": false,
    "ExecuteTime": {
     "end_time": "2023-10-09T15:27:46.150321Z",
     "start_time": "2023-10-09T15:27:46.148831Z"
    }
   }
  },
  {
   "cell_type": "code",
   "execution_count": 4,
   "outputs": [],
   "source": [
    "def load_file(name):\n",
    "    with open(os.path.join(DATA_FOLDER,name), \"rb\") as f:\n",
    "        return pickle.load(f)"
   ],
   "metadata": {
    "collapsed": false,
    "ExecuteTime": {
     "end_time": "2023-10-09T15:27:46.373691Z",
     "start_time": "2023-10-09T15:27:46.372185Z"
    }
   }
  },
  {
   "cell_type": "code",
   "execution_count": 5,
   "outputs": [],
   "source": [
    "def get_trace(data, year, color_index, name):\n",
    "    #Used to create two traces with a different color (past and future)\n",
    "    x_values = list(range(1930,2014))\n",
    "    year_index = x_values.index(year)\n",
    "    y_values = data[year_index]\n",
    "\n",
    "    trace1 = go.Scatter(x=x_values[:year_index+1], y=y_values[:year_index+1], mode='lines', line=dict(color=lighter_colors[color_index], width=5.5), name = name, showlegend = False)\n",
    "    trace2 = go.Scatter(x=x_values[year_index:], y=y_values[year_index:], mode='lines', line=dict(color=colors[color_index], width=5.5), name= name )\n",
    "    return [trace1, trace2]\n",
    "\n",
    "def get_vertical_line(year):\n",
    "    return go.Scatter(x=[year, year], y=[0, 1], mode='lines', line=dict(color=MODYN_BLUE, dash=\"dot\", width=4), showlegend=False)"
   ],
   "metadata": {
    "collapsed": false,
    "ExecuteTime": {
     "end_time": "2023-10-09T15:27:46.649461Z",
     "start_time": "2023-10-09T15:27:46.642356Z"
    }
   }
  },
  {
   "cell_type": "code",
   "execution_count": 6,
   "outputs": [],
   "source": [
    "def get_slider_chart(data, experiments):\n",
    "\n",
    "    layout = go.Layout(xaxis=dict(title=f'{format_string}Time'), yaxis=dict(title=f'{format_string}Accuracy'), title=dict(text=f\"{format_string_title}Model performance over time\",xanchor= 'center',x=0.5, font=dict(size = 35,family='helvetica' )), plot_bgcolor=MODYN_WHITE, paper_bgcolor=MODYN_WHITE)\n",
    "    fig = go.Figure(layout = layout)\n",
    "\n",
    "    # Add traces, one for each slider step\n",
    "    for year in range(1930,2013):\n",
    "        traces = []\n",
    "        for d in data:\n",
    "            index = data.index(d)\n",
    "            traces += get_trace(d, year, color_index=index, name = experiments[index])\n",
    "        traces.append(get_vertical_line(year))\n",
    "        for i in range(len(traces)):\n",
    "            fig.add_trace(traces[i])\n",
    "\n",
    "\n",
    "    number_of_traces = len(traces)\n",
    "\n",
    "    #Hide all the traces except the first one\n",
    "    for i in range(len(fig.data)):\n",
    "        fig.data[i].visible = False\n",
    "    for i in range(number_of_traces):\n",
    "        fig.data[i].visible = True\n",
    "\n",
    "\n",
    "    # Create and add slider\n",
    "    steps = []\n",
    "    for i in range(len(fig.data)//number_of_traces):\n",
    "        step = dict(\n",
    "            method=\"update\",\n",
    "            args=[{\"visible\": [False] * len(fig.data)}, {\"title\": f\"{format_string_title}Trained up to: </b>{format_string_title_red}\" + str(1930 + i)}],\n",
    "        )\n",
    "        for j in range(number_of_traces):\n",
    "            step[\"args\"][0][\"visible\"][number_of_traces*i +j] = True  # Toggle i'th trace to \"visible\"\n",
    "\n",
    "        steps.append(step)\n",
    "\n",
    "    #add sliders\n",
    "    sliders = [dict(\n",
    "        active=0,\n",
    "        currentvalue={\"prefix\": \"Model trained up to: \"},\n",
    "        pad={\"t\": 50},\n",
    "        steps=steps,\n",
    "        bgcolor=MODYN_BLUE,\n",
    "        tickcolor=MODYN_BLUE,\n",
    "        font=dict(size=8, color=MODYN_BLUE, family = \"helvetica\")\n",
    "    )]\n",
    "\n",
    "    fig.update_layout(sliders=sliders)\n",
    "\n",
    "    for i in range(83):\n",
    "        fig['layout']['sliders'][0]['steps'][i]['label']=1930 + i\n",
    "\n",
    "    #Style axis\n",
    "    fig.update_yaxes(showline=True, linewidth=2, linecolor=MODYN_BLUE, range=[0,1], title_font=dict(size=18, color=MODYN_BLUE, family = \"helvetica\"), tickangle=0, tickfont=dict(family='helvetica', color=MODYN_BLUE, size=14), showgrid=True, gridwidth=0.5, gridcolor='LightGray')\n",
    "    fig.update_xaxes(showline=True, linewidth=2, linecolor=MODYN_BLUE, range=[1930,2013], title_font=dict(size=18, color=MODYN_BLUE, family = \"helvetica\"), tickangle=0, tickfont=dict(family='helvetica', color=MODYN_BLUE, size=14), showgrid=True, gridwidth=0.5, gridcolor='LightGray')\n",
    "\n",
    "    #Style legend\n",
    "    fig.update_layout(legend=dict( yanchor=\"bottom\", y=1.00, xanchor=\"right\",itemwidth=40, x=0.99,orientation = \"h\",\n",
    "        font=dict(size=10, color=MODYN_BLUE, family = \"helvetica\")\n",
    "    ))\n",
    "    return fig"
   ],
   "metadata": {
    "collapsed": false,
    "ExecuteTime": {
     "end_time": "2023-10-09T15:27:46.926315Z",
     "start_time": "2023-10-09T15:27:46.915839Z"
    }
   }
  },
  {
   "cell_type": "code",
   "execution_count": 7,
   "outputs": [],
   "source": [
    "def style_html():\n",
    "    #Trick to render Hanken Grotesk\n",
    "\n",
    "    with open(OUTPUT_FILE_NAME, \"r\") as f:\n",
    "        html_file = f.read()\n",
    "        tree = html.fromstring(html_file)\n",
    "\n",
    "    root = html.Element(\"html\")\n",
    "    root.append(html.fromstring(\"\"\"<style>\n",
    "  @import url('https://fonts.googleapis.com/css2?family=Hanken+Grotesk:ital,wght@0,100;0,200;0,300;0,400;0,500;0,600;0,700;0,800;0,900;1,100;1,200;1,300;1,400;1,500;1,600;1,700;1,800;1,900&display=swap');\n",
    "</style>\"\"\"))\n",
    "\n",
    "    body = tree.xpath('//body')[0]\n",
    "    body.set(\"style\", f\"background-color: {MODYN_BLUE};\")\n",
    "    root.append(body)\n",
    "\n",
    "    # Write the merged HTML to a file\n",
    "    with open(OUTPUT_FILE_NAME, 'wb') as f:\n",
    "        f.write(html.tostring(root))"
   ],
   "metadata": {
    "collapsed": false,
    "ExecuteTime": {
     "end_time": "2023-10-09T15:27:47.330873Z",
     "start_time": "2023-10-09T15:27:47.324815Z"
    }
   }
  },
  {
   "cell_type": "code",
   "execution_count": 8,
   "outputs": [
    {
     "name": "stdout",
     "output_type": "stream",
     "text": [
      "all_data.pkl\n",
      "labelBalanced_25pc_1ep.pkl\n",
      "labelBalanced_50pc_1ep.pkl\n",
      "labelBalanced_75pc_1ep.pkl\n",
      "randomNoRep_25pc_1ep.pkl\n",
      "randomNoRep_25pc_2ep.pkl\n",
      "randomNoRep_50pc_1ep.pkl\n",
      "randomNoRep_50pc_2ep.pkl\n",
      "randomNoRep_75pc_1ep.pkl\n",
      "random_25pc_1ep .pkl\n",
      "random_25pc_2ep.pkl\n",
      "random_25pc_4ep.pkl\n",
      "random_50pc_1ep.pkl\n",
      "random_50pc_2ep.pkl\n",
      "random_75pc_1ep.pkl\n"
     ]
    }
   ],
   "source": [
    "if \".DS_Store\" in os.listdir(DATA_FOLDER):\n",
    "    os.remove(os.path.join(DATA_FOLDER, \".DS_Store\"))\n",
    "files = sorted(os.listdir(DATA_FOLDER)) #always sort to keep colors consistent\n",
    "experiments = [\" \".join(file.split(\"_\")).split(\".pkl\")[0] for file in files]\n",
    "\n",
    "data = []\n",
    "for file in files:\n",
    "    data.append(load_file(file))\n",
    "fig = get_slider_chart(data, experiments)\n",
    "fig.write_html(OUTPUT_FILE_NAME, include_plotlyjs=\"cdn\")\n",
    "style_html()"
   ],
   "metadata": {
    "collapsed": false,
    "ExecuteTime": {
     "end_time": "2023-10-09T15:27:49.651309Z",
     "start_time": "2023-10-09T15:27:47.783544Z"
    }
   }
  }
 ],
 "metadata": {
  "kernelspec": {
   "display_name": "Python 3",
   "language": "python",
   "name": "python3"
  },
  "language_info": {
   "codemirror_mode": {
    "name": "ipython",
    "version": 2
   },
   "file_extension": ".py",
   "mimetype": "text/x-python",
   "name": "python",
   "nbconvert_exporter": "python",
   "pygments_lexer": "ipython2",
   "version": "2.7.6"
  }
 },
 "nbformat": 4,
 "nbformat_minor": 0
}
