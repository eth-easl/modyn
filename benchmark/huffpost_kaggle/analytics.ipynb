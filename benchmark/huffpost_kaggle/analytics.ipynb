{
 "cells": [
  {
   "cell_type": "code",
   "execution_count": null,
   "metadata": {},
   "outputs": [],
   "source": [
    "from benchmark.huffpost_kaggle.data_generation import HuffpostKaggleDataGenerator\n",
    "import plotly.express as px\n"
   ]
  },
  {
   "cell_type": "code",
   "execution_count": null,
   "metadata": {},
   "outputs": [],
   "source": [
    "from pathlib import Path\n",
    "\n",
    "\n",
    "huffpost_dataset = HuffpostKaggleDataGenerator(\n",
    "    Path(\"/scratch/robinholzi/gh/modyn/.debug.log/.data/huffpost_kaggle\"),\n",
    "    Path(\"/scratch/robinholzi/gh/modyn/.debug.log/.data/huffpost_kaggle/_raw/news-category-dataset.zip\")\n",
    "    \n",
    ")\n",
    "huffpost_dataset.extract_data()\n",
    "hp_df = huffpost_dataset.load_into_dataframe()"
   ]
  },
  {
   "cell_type": "code",
   "execution_count": null,
   "metadata": {},
   "outputs": [],
   "source": [
    "hp_df[\"category\"].unique()"
   ]
  },
  {
   "cell_type": "code",
   "execution_count": null,
   "metadata": {},
   "outputs": [],
   "source": [
    "# number of samples over time\n",
    "px.histogram(\n",
    "    hp_df, x=\"date\"\n",
    ")"
   ]
  },
  {
   "cell_type": "code",
   "execution_count": null,
   "metadata": {},
   "outputs": [],
   "source": [
    "category_and_years = hp_df[[\"category\", \"date\"]]\n",
    "category_and_years[\"year\"] = category_and_years[\"date\"].dt.year\n",
    "category_and_years = category_and_years[[\"category\", \"year\"]].drop_duplicates()\n",
    "category_and_years = category_and_years.groupby(\"category\").size().reset_index()\n",
    "category_and_years.columns = [\"category\", \"num_years\"]\n",
    "category_and_years[category_and_years[\"num_years\"] > 9]"
   ]
  },
  {
   "cell_type": "code",
   "execution_count": null,
   "metadata": {},
   "outputs": [],
   "source": [
    "hp_df_reduced = hp_df.merge(category_and_years, on=\"category\")"
   ]
  },
  {
   "cell_type": "code",
   "execution_count": null,
   "metadata": {},
   "outputs": [],
   "source": [
    "px.histogram(\n",
    "    hp_df_reduced, x=\"date\", color=\"category\"\n",
    ")"
   ]
  },
  {
   "cell_type": "code",
   "execution_count": null,
   "metadata": {},
   "outputs": [],
   "source": []
  }
 ],
 "metadata": {
  "kernelspec": {
   "display_name": "Python 3",
   "language": "python",
   "name": "python3"
  },
  "language_info": {
   "codemirror_mode": {
    "name": "ipython",
    "version": 3
   },
   "file_extension": ".py",
   "mimetype": "text/x-python",
   "name": "python",
   "nbconvert_exporter": "python",
   "pygments_lexer": "ipython3",
   "version": "3.12.3"
  }
 },
 "nbformat": 4,
 "nbformat_minor": 2
}
